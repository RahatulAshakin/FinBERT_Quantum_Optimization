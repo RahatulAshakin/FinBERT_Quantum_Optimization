{
 "cells": [
  {
   "cell_type": "code",
   "execution_count": null,
   "id": "726785c9-affc-4195-8a30-149cea722e77",
   "metadata": {},
   "outputs": [],
   "source": []
  },
  {
   "cell_type": "code",
   "execution_count": null,
   "id": "18ffcd68-5867-4947-9dfa-15bcd1370e2d",
   "metadata": {},
   "outputs": [],
   "source": []
  },
  {
   "cell_type": "code",
   "execution_count": 1,
   "id": "329990b9-e0d4-4aed-9b26-a3feac1c27f2",
   "metadata": {},
   "outputs": [
    {
     "name": "stdout",
     "output_type": "stream",
     "text": [
      "✅ Pandas version: 2.2.3\n",
      "✅ Transformers version: transformers\n",
      "✅ Qiskit version: 1.4.2\n"
     ]
    }
   ],
   "source": [
    "# Standard Libraries\n",
    "import os\n",
    "import numpy as np\n",
    "import pandas as pd\n",
    "import matplotlib.pyplot as plt\n",
    "import seaborn as sns\n",
    "import string\n",
    "import re\n",
    "\n",
    "# NLTK for text processing\n",
    "import nltk\n",
    "from nltk.tokenize import word_tokenize\n",
    "from nltk.corpus import stopwords\n",
    "from nltk.stem import WordNetLemmatizer\n",
    "\n",
    "# Hugging Face Libraries\n",
    "from datasets import Dataset\n",
    "from transformers import AutoTokenizer, AutoModelForSequenceClassification, TrainingArguments, Trainer\n",
    "\n",
    "# Qiskit Libraries\n",
    "import qiskit\n",
    "\n",
    "from qiskit_aer import AerSimulator\n",
    "\n",
    "from qiskit_optimization import QuadraticProgram\n",
    "from qiskit_optimization.algorithms import MinimumEigenOptimizer\n",
    "from qiskit_algorithms.optimizers import COBYLA\n",
    "from qiskit.primitives import Sampler\n",
    "from qiskit_algorithms.utils import algorithm_globals\n",
    "\n",
    "\n",
    "# Check versions\n",
    "print(f\"✅ Pandas version: {pd.__version__}\")\n",
    "print(f\"✅ Transformers version: {AutoTokenizer.__module__.split('.')[0]}\")\n",
    "print(f\"✅ Qiskit version: {qiskit.__version__}\")\n"
   ]
  },
  {
   "cell_type": "code",
   "execution_count": 2,
   "id": "5a423482-bf29-4a88-bfce-fd238f36f654",
   "metadata": {},
   "outputs": [
    {
     "name": "stdout",
     "output_type": "stream",
     "text": [
      "✅ PyTorch version: 2.6.0+cpu\n",
      "✅ Transformers version: 4.49.0\n",
      "✅ NLTK version: 3.9.1\n",
      "✅ Qiskit version: 1.4.2\n",
      "✅ Pandas version: 2.2.3\n",
      "✅ NumPy version: 2.2.4\n",
      "✅ Matplotlib version: 3.10.1\n",
      "✅ Scikit-learn version: 1.6.1\n",
      "✅ Datasets version: 3.4.1\n"
     ]
    }
   ],
   "source": [
    "import torch\n",
    "import transformers\n",
    "import nltk\n",
    "import qiskit\n",
    "import pandas as pd\n",
    "import numpy as np\n",
    "import matplotlib.pyplot as plt\n",
    "import sklearn\n",
    "import datasets\n",
    "\n",
    "print(\"✅ PyTorch version:\", torch.__version__)\n",
    "print(\"✅ Transformers version:\", transformers.__version__)\n",
    "print(\"✅ NLTK version:\", nltk.__version__)\n",
    "print(\"✅ Qiskit version:\", qiskit.__version__)\n",
    "print(\"✅ Pandas version:\", pd.__version__)\n",
    "print(\"✅ NumPy version:\", np.__version__)\n",
    "print(\"✅ Matplotlib version:\", plt.matplotlib.__version__)\n",
    "print(\"✅ Scikit-learn version:\", sklearn.__version__)\n",
    "print(\"✅ Datasets version:\", datasets.__version__)\n"
   ]
  },
  {
   "cell_type": "code",
   "execution_count": 3,
   "id": "8108b265-5211-4da9-9872-5b82f12ed658",
   "metadata": {},
   "outputs": [
    {
     "data": {
      "text/html": [
       "<div>\n",
       "<style scoped>\n",
       "    .dataframe tbody tr th:only-of-type {\n",
       "        vertical-align: middle;\n",
       "    }\n",
       "\n",
       "    .dataframe tbody tr th {\n",
       "        vertical-align: top;\n",
       "    }\n",
       "\n",
       "    .dataframe thead th {\n",
       "        text-align: right;\n",
       "    }\n",
       "</style>\n",
       "<table border=\"1\" class=\"dataframe\">\n",
       "  <thead>\n",
       "    <tr style=\"text-align: right;\">\n",
       "      <th></th>\n",
       "      <th>neutral</th>\n",
       "      <th>According to Gran , the company has no plans to move all production to Russia , although that is where the company is growing .</th>\n",
       "    </tr>\n",
       "  </thead>\n",
       "  <tbody>\n",
       "    <tr>\n",
       "      <th>0</th>\n",
       "      <td>neutral</td>\n",
       "      <td>Technopolis plans to develop in stages an area...</td>\n",
       "    </tr>\n",
       "    <tr>\n",
       "      <th>1</th>\n",
       "      <td>negative</td>\n",
       "      <td>The international electronic industry company ...</td>\n",
       "    </tr>\n",
       "    <tr>\n",
       "      <th>2</th>\n",
       "      <td>positive</td>\n",
       "      <td>With the new production plant the company woul...</td>\n",
       "    </tr>\n",
       "    <tr>\n",
       "      <th>3</th>\n",
       "      <td>positive</td>\n",
       "      <td>According to the company 's updated strategy f...</td>\n",
       "    </tr>\n",
       "    <tr>\n",
       "      <th>4</th>\n",
       "      <td>positive</td>\n",
       "      <td>FINANCING OF ASPOCOMP 'S GROWTH Aspocomp is ag...</td>\n",
       "    </tr>\n",
       "  </tbody>\n",
       "</table>\n",
       "</div>"
      ],
      "text/plain": [
       "    neutral  \\\n",
       "0   neutral   \n",
       "1  negative   \n",
       "2  positive   \n",
       "3  positive   \n",
       "4  positive   \n",
       "\n",
       "  According to Gran , the company has no plans to move all production to Russia , although that is where the company is growing .  \n",
       "0  Technopolis plans to develop in stages an area...                                                                               \n",
       "1  The international electronic industry company ...                                                                               \n",
       "2  With the new production plant the company woul...                                                                               \n",
       "3  According to the company 's updated strategy f...                                                                               \n",
       "4  FINANCING OF ASPOCOMP 'S GROWTH Aspocomp is ag...                                                                               "
      ]
     },
     "execution_count": 3,
     "metadata": {},
     "output_type": "execute_result"
    }
   ],
   "source": [
    "import pandas as pd\n",
    "\n",
    "# Load the dataset with ISO-8859-1 encoding (or Latin-1)\n",
    "df = pd.read_csv(r\"C:\\Users\\ashak\\Finbert Project\\Resource\\all-data.csv\", encoding=\"ISO-8859-1\")\n",
    "\n",
    "# Display first few rows\n",
    "df.head()\n"
   ]
  },
  {
   "cell_type": "code",
   "execution_count": 4,
   "id": "d4f3aff8-8110-4f04-9e40-31e5fc7ffb4d",
   "metadata": {},
   "outputs": [
    {
     "name": "stdout",
     "output_type": "stream",
     "text": [
      "Missing values in each column:\n",
      " neutral                                                                                                                            0\n",
      "According to Gran , the company has no plans to move all production to Russia , although that is where the company is growing .    0\n",
      "dtype: int64\n"
     ]
    }
   ],
   "source": [
    "print(\"Missing values in each column:\\n\", df.isnull().sum())\n"
   ]
  },
  {
   "cell_type": "code",
   "execution_count": 5,
   "id": "1e9eebb3-1002-4de7-9ff0-467529def53b",
   "metadata": {},
   "outputs": [
    {
     "name": "stdout",
     "output_type": "stream",
     "text": [
      "<class 'pandas.core.frame.DataFrame'>\n",
      "RangeIndex: 4845 entries, 0 to 4844\n",
      "Data columns (total 2 columns):\n",
      " #   Column                                                                                                                           Non-Null Count  Dtype \n",
      "---  ------                                                                                                                           --------------  ----- \n",
      " 0   neutral                                                                                                                          4845 non-null   object\n",
      " 1   According to Gran , the company has no plans to move all production to Russia , although that is where the company is growing .  4845 non-null   object\n",
      "dtypes: object(2)\n",
      "memory usage: 75.8+ KB\n",
      "None\n"
     ]
    }
   ],
   "source": [
    "print(df.info())\n"
   ]
  },
  {
   "cell_type": "code",
   "execution_count": 6,
   "id": "db3d49b9-1ee5-4a7d-bc25-259dfe911955",
   "metadata": {},
   "outputs": [
    {
     "data": {
      "text/html": [
       "<div>\n",
       "<style scoped>\n",
       "    .dataframe tbody tr th:only-of-type {\n",
       "        vertical-align: middle;\n",
       "    }\n",
       "\n",
       "    .dataframe tbody tr th {\n",
       "        vertical-align: top;\n",
       "    }\n",
       "\n",
       "    .dataframe thead th {\n",
       "        text-align: right;\n",
       "    }\n",
       "</style>\n",
       "<table border=\"1\" class=\"dataframe\">\n",
       "  <thead>\n",
       "    <tr style=\"text-align: right;\">\n",
       "      <th></th>\n",
       "      <th>sentiment</th>\n",
       "      <th>text</th>\n",
       "    </tr>\n",
       "  </thead>\n",
       "  <tbody>\n",
       "    <tr>\n",
       "      <th>0</th>\n",
       "      <td>neutral</td>\n",
       "      <td>Technopolis plans to develop in stages an area...</td>\n",
       "    </tr>\n",
       "    <tr>\n",
       "      <th>1</th>\n",
       "      <td>negative</td>\n",
       "      <td>The international electronic industry company ...</td>\n",
       "    </tr>\n",
       "    <tr>\n",
       "      <th>2</th>\n",
       "      <td>positive</td>\n",
       "      <td>With the new production plant the company woul...</td>\n",
       "    </tr>\n",
       "    <tr>\n",
       "      <th>3</th>\n",
       "      <td>positive</td>\n",
       "      <td>According to the company 's updated strategy f...</td>\n",
       "    </tr>\n",
       "    <tr>\n",
       "      <th>4</th>\n",
       "      <td>positive</td>\n",
       "      <td>FINANCING OF ASPOCOMP 'S GROWTH Aspocomp is ag...</td>\n",
       "    </tr>\n",
       "  </tbody>\n",
       "</table>\n",
       "</div>"
      ],
      "text/plain": [
       "  sentiment                                               text\n",
       "0   neutral  Technopolis plans to develop in stages an area...\n",
       "1  negative  The international electronic industry company ...\n",
       "2  positive  With the new production plant the company woul...\n",
       "3  positive  According to the company 's updated strategy f...\n",
       "4  positive  FINANCING OF ASPOCOMP 'S GROWTH Aspocomp is ag..."
      ]
     },
     "execution_count": 6,
     "metadata": {},
     "output_type": "execute_result"
    }
   ],
   "source": [
    "# Rename columns for clarity\n",
    "df.columns = [\"sentiment\", \"text\"]\n",
    "\n",
    "# Display first few rows to confirm\n",
    "df.head()\n"
   ]
  },
  {
   "cell_type": "code",
   "execution_count": 7,
   "id": "3eec830e-8f29-460f-bc1b-1a0b32fed937",
   "metadata": {},
   "outputs": [
    {
     "name": "stdout",
     "output_type": "stream",
     "text": [
      "Unique sentiment values: ['neutral' 'negative' 'positive']\n"
     ]
    }
   ],
   "source": [
    "print(\"Unique sentiment values:\", df[\"sentiment\"].unique())\n"
   ]
  },
  {
   "cell_type": "code",
   "execution_count": 8,
   "id": "47bce1f0-5d62-4f1b-a449-8a9772a2c0a2",
   "metadata": {},
   "outputs": [
    {
     "name": "stdout",
     "output_type": "stream",
     "text": [
      "Number of duplicate rows: 6\n",
      "Dataset size after removing duplicates: (4839, 2)\n"
     ]
    }
   ],
   "source": [
    "# Check for duplicates\n",
    "num_duplicates = df.duplicated().sum()\n",
    "print(\"Number of duplicate rows:\", num_duplicates)\n",
    "\n",
    "# Remove duplicates if any\n",
    "df = df.drop_duplicates()\n",
    "\n",
    "# Check new dataset size\n",
    "print(\"Dataset size after removing duplicates:\", df.shape)\n"
   ]
  },
  {
   "cell_type": "code",
   "execution_count": 9,
   "id": "4dbfc8f3-cca5-438b-ae1d-5106ce365f44",
   "metadata": {},
   "outputs": [
    {
     "data": {
      "text/html": [
       "<div>\n",
       "<style scoped>\n",
       "    .dataframe tbody tr th:only-of-type {\n",
       "        vertical-align: middle;\n",
       "    }\n",
       "\n",
       "    .dataframe tbody tr th {\n",
       "        vertical-align: top;\n",
       "    }\n",
       "\n",
       "    .dataframe thead th {\n",
       "        text-align: right;\n",
       "    }\n",
       "</style>\n",
       "<table border=\"1\" class=\"dataframe\">\n",
       "  <thead>\n",
       "    <tr style=\"text-align: right;\">\n",
       "      <th></th>\n",
       "      <th>sentiment</th>\n",
       "      <th>text</th>\n",
       "    </tr>\n",
       "  </thead>\n",
       "  <tbody>\n",
       "    <tr>\n",
       "      <th>0</th>\n",
       "      <td>1</td>\n",
       "      <td>Technopolis plans to develop in stages an area...</td>\n",
       "    </tr>\n",
       "    <tr>\n",
       "      <th>1</th>\n",
       "      <td>0</td>\n",
       "      <td>The international electronic industry company ...</td>\n",
       "    </tr>\n",
       "    <tr>\n",
       "      <th>2</th>\n",
       "      <td>2</td>\n",
       "      <td>With the new production plant the company woul...</td>\n",
       "    </tr>\n",
       "    <tr>\n",
       "      <th>3</th>\n",
       "      <td>2</td>\n",
       "      <td>According to the company 's updated strategy f...</td>\n",
       "    </tr>\n",
       "    <tr>\n",
       "      <th>4</th>\n",
       "      <td>2</td>\n",
       "      <td>FINANCING OF ASPOCOMP 'S GROWTH Aspocomp is ag...</td>\n",
       "    </tr>\n",
       "  </tbody>\n",
       "</table>\n",
       "</div>"
      ],
      "text/plain": [
       "   sentiment                                               text\n",
       "0          1  Technopolis plans to develop in stages an area...\n",
       "1          0  The international electronic industry company ...\n",
       "2          2  With the new production plant the company woul...\n",
       "3          2  According to the company 's updated strategy f...\n",
       "4          2  FINANCING OF ASPOCOMP 'S GROWTH Aspocomp is ag..."
      ]
     },
     "execution_count": 9,
     "metadata": {},
     "output_type": "execute_result"
    }
   ],
   "source": [
    "# Map sentiment values to numbers\n",
    "sentiment_mapping = {\"neutral\": 1, \"negative\": 0, \"positive\": 2}\n",
    "df[\"sentiment\"] = df[\"sentiment\"].map(sentiment_mapping)\n",
    "\n",
    "# Verify mapping\n",
    "df.head()\n"
   ]
  },
  {
   "cell_type": "code",
   "execution_count": 10,
   "id": "a670ce3e-badb-4ea8-afcb-d788260a041a",
   "metadata": {},
   "outputs": [
    {
     "name": "stderr",
     "output_type": "stream",
     "text": [
      "[nltk_data] Downloading package punkt to\n",
      "[nltk_data]     C:\\Users\\ashak\\AppData\\Roaming\\nltk_data...\n",
      "[nltk_data]   Package punkt is already up-to-date!\n"
     ]
    },
    {
     "data": {
      "text/plain": [
       "FileSystemPathPointer('C:\\\\Users\\\\ashak\\\\AppData\\\\Roaming\\\\nltk_data\\\\tokenizers\\\\punkt')"
      ]
     },
     "execution_count": 10,
     "metadata": {},
     "output_type": "execute_result"
    }
   ],
   "source": [
    "import nltk\n",
    "\n",
    "# Manually reinstall punkt\n",
    "nltk.download('punkt')\n",
    "\n",
    "# Verify installation\n",
    "nltk.data.find('tokenizers/punkt')\n"
   ]
  },
  {
   "cell_type": "code",
   "execution_count": 11,
   "id": "a6a3eff1-4f6c-47cd-9fd1-a1db65a2a127",
   "metadata": {},
   "outputs": [
    {
     "name": "stderr",
     "output_type": "stream",
     "text": [
      "[nltk_data] Downloading package punkt to\n",
      "[nltk_data]     C:\\Users\\ashak\\AppData\\Roaming\\nltk_data...\n",
      "[nltk_data]   Unzipping tokenizers\\punkt.zip.\n",
      "[nltk_data] Downloading package stopwords to\n",
      "[nltk_data]     C:\\Users\\ashak\\AppData\\Roaming\\nltk_data...\n",
      "[nltk_data]   Unzipping corpora\\stopwords.zip.\n",
      "[nltk_data] Downloading package wordnet to\n",
      "[nltk_data]     C:\\Users\\ashak\\AppData\\Roaming\\nltk_data...\n",
      "[nltk_data] Downloading package omw-1.4 to\n",
      "[nltk_data]     C:\\Users\\ashak\\AppData\\Roaming\\nltk_data...\n"
     ]
    },
    {
     "name": "stdout",
     "output_type": "stream",
     "text": [
      "✅ NLTK punkt successfully found!\n"
     ]
    }
   ],
   "source": [
    "import nltk\n",
    "import os\n",
    "\n",
    "# Ensure NLTK uses the correct path\n",
    "nltk.data.path.append(os.path.join(os.environ[\"USERPROFILE\"], \"nltk_data\"))\n",
    "\n",
    "# Download punkt again forcefully\n",
    "nltk.download('punkt', force=True)\n",
    "nltk.download('stopwords', force=True)\n",
    "nltk.download('wordnet', force=True)\n",
    "nltk.download('omw-1.4', force=True)\n",
    "\n",
    "# Check if punkt exists\n",
    "nltk.data.find('tokenizers/punkt')\n",
    "print(\"✅ NLTK punkt successfully found!\")\n"
   ]
  },
  {
   "cell_type": "code",
   "execution_count": 12,
   "id": "5e8d571a-0321-4c0e-acc3-cfe6daa3e696",
   "metadata": {},
   "outputs": [
    {
     "name": "stdout",
     "output_type": "stream",
     "text": [
      "['C:\\\\Users\\\\ashak/nltk_data', 'C:\\\\Users\\\\ashak\\\\anaconda3\\\\envs\\\\qisk-latest\\\\nltk_data', 'C:\\\\Users\\\\ashak\\\\anaconda3\\\\envs\\\\qisk-latest\\\\share\\\\nltk_data', 'C:\\\\Users\\\\ashak\\\\anaconda3\\\\envs\\\\qisk-latest\\\\lib\\\\nltk_data', 'C:\\\\Users\\\\ashak\\\\AppData\\\\Roaming\\\\nltk_data', 'C:\\\\nltk_data', 'D:\\\\nltk_data', 'E:\\\\nltk_data', 'C:\\\\Users\\\\ashak\\\\nltk_data']\n"
     ]
    }
   ],
   "source": [
    "import nltk\n",
    "print(nltk.data.path)\n"
   ]
  },
  {
   "cell_type": "code",
   "execution_count": 13,
   "id": "8bc036d9-758e-4438-8198-548462f9dcac",
   "metadata": {},
   "outputs": [
    {
     "name": "stderr",
     "output_type": "stream",
     "text": [
      "[nltk_data] Downloading package punkt_tab to\n",
      "[nltk_data]     C:\\Users\\ashak\\AppData\\Roaming\\nltk_data...\n",
      "[nltk_data]   Package punkt_tab is already up-to-date!\n"
     ]
    },
    {
     "data": {
      "text/plain": [
       "True"
      ]
     },
     "execution_count": 13,
     "metadata": {},
     "output_type": "execute_result"
    }
   ],
   "source": [
    "import nltk\n",
    "nltk.download('punkt_tab')\n"
   ]
  },
  {
   "cell_type": "code",
   "execution_count": 14,
   "id": "bca0f223-6d28-40ad-ac48-f813c083e31a",
   "metadata": {},
   "outputs": [
    {
     "data": {
      "text/html": [
       "<div>\n",
       "<style scoped>\n",
       "    .dataframe tbody tr th:only-of-type {\n",
       "        vertical-align: middle;\n",
       "    }\n",
       "\n",
       "    .dataframe tbody tr th {\n",
       "        vertical-align: top;\n",
       "    }\n",
       "\n",
       "    .dataframe thead th {\n",
       "        text-align: right;\n",
       "    }\n",
       "</style>\n",
       "<table border=\"1\" class=\"dataframe\">\n",
       "  <thead>\n",
       "    <tr style=\"text-align: right;\">\n",
       "      <th></th>\n",
       "      <th>text</th>\n",
       "      <th>cleaned_text</th>\n",
       "    </tr>\n",
       "  </thead>\n",
       "  <tbody>\n",
       "    <tr>\n",
       "      <th>0</th>\n",
       "      <td>Technopolis plans to develop in stages an area...</td>\n",
       "      <td>technopolis plan develop stage area less 10000...</td>\n",
       "    </tr>\n",
       "    <tr>\n",
       "      <th>1</th>\n",
       "      <td>The international electronic industry company ...</td>\n",
       "      <td>international electronic industry company elco...</td>\n",
       "    </tr>\n",
       "    <tr>\n",
       "      <th>2</th>\n",
       "      <td>With the new production plant the company woul...</td>\n",
       "      <td>new production plant company would increase ca...</td>\n",
       "    </tr>\n",
       "    <tr>\n",
       "      <th>3</th>\n",
       "      <td>According to the company 's updated strategy f...</td>\n",
       "      <td>according company updated strategy year 200920...</td>\n",
       "    </tr>\n",
       "    <tr>\n",
       "      <th>4</th>\n",
       "      <td>FINANCING OF ASPOCOMP 'S GROWTH Aspocomp is ag...</td>\n",
       "      <td>financing aspocomp growth aspocomp aggressivel...</td>\n",
       "    </tr>\n",
       "  </tbody>\n",
       "</table>\n",
       "</div>"
      ],
      "text/plain": [
       "                                                text  \\\n",
       "0  Technopolis plans to develop in stages an area...   \n",
       "1  The international electronic industry company ...   \n",
       "2  With the new production plant the company woul...   \n",
       "3  According to the company 's updated strategy f...   \n",
       "4  FINANCING OF ASPOCOMP 'S GROWTH Aspocomp is ag...   \n",
       "\n",
       "                                        cleaned_text  \n",
       "0  technopolis plan develop stage area less 10000...  \n",
       "1  international electronic industry company elco...  \n",
       "2  new production plant company would increase ca...  \n",
       "3  according company updated strategy year 200920...  \n",
       "4  financing aspocomp growth aspocomp aggressivel...  "
      ]
     },
     "execution_count": 14,
     "metadata": {},
     "output_type": "execute_result"
    }
   ],
   "source": [
    "import re\n",
    "import string\n",
    "from nltk.corpus import stopwords\n",
    "from nltk.tokenize import word_tokenize\n",
    "from nltk.stem import WordNetLemmatizer\n",
    "\n",
    "lemmatizer = WordNetLemmatizer()\n",
    "stop_words = set(stopwords.words(\"english\"))\n",
    "\n",
    "def preprocess_text(text):\n",
    "    text = text.lower()  # Convert to lowercase\n",
    "    text = re.sub(r'\\s+', ' ', text)  # Remove extra spaces\n",
    "    text = text.translate(str.maketrans('', '', string.punctuation))  # Remove punctuation\n",
    "    words = word_tokenize(text)  # Tokenize words\n",
    "    words = [word for word in words if word not in stop_words]  # Remove stopwords\n",
    "    words = [lemmatizer.lemmatize(word) for word in words]  # Lemmatize\n",
    "    return ' '.join(words)\n",
    "\n",
    "df[\"cleaned_text\"] = df[\"text\"].apply(preprocess_text)\n",
    "df[[\"text\", \"cleaned_text\"]].head()\n"
   ]
  },
  {
   "cell_type": "code",
   "execution_count": 15,
   "id": "b75d1e94-3410-4a88-af72-3586963c0c5f",
   "metadata": {},
   "outputs": [
    {
     "name": "stdout",
     "output_type": "stream",
     "text": [
      "Example text: technopolis plan develop stage area less 100000 square meter order host company working computer technology telecommunication statement said\n",
      "Tokenized output: ['techno', '##poli', '##s', 'plan', 'develop', 'stage', 'area', 'less', '1000', '##00', 'square', 'meter', 'order', 'host', 'company', 'working', 'computer', 'technology', 'telecommunication', 'statement', 'said']\n"
     ]
    }
   ],
   "source": [
    "from transformers import AutoTokenizer\n",
    "\n",
    "# Load FinBERT tokenizer\n",
    "tokenizer = AutoTokenizer.from_pretrained(\"yiyanghkust/finbert-tone\")\n",
    "\n",
    "# Tokenize an example text\n",
    "example_text = df[\"cleaned_text\"][0]\n",
    "tokens = tokenizer.tokenize(example_text)\n",
    "\n",
    "# Print the tokenized output\n",
    "print(\"Example text:\", example_text)\n",
    "print(\"Tokenized output:\", tokens)\n"
   ]
  },
  {
   "cell_type": "code",
   "execution_count": 16,
   "id": "e4b0c14a-d08f-4e37-a63e-80f54cd4bde1",
   "metadata": {},
   "outputs": [
    {
     "name": "stdout",
     "output_type": "stream",
     "text": [
      "Example text: technopolis plan develop stage area less 100000 square meter order host company working computer technology telecommunication statement said\n",
      "Tokenized output: ['techno', '##poli', '##s', 'plan', 'develop', 'stage', 'area', 'less', '1000', '##00', 'square', 'meter', 'order', 'host', 'company', 'working', 'computer', 'technology', 'telecommunication', 'statement', 'said']\n"
     ]
    }
   ],
   "source": [
    "from transformers import AutoTokenizer\n",
    "\n",
    "tokenizer = AutoTokenizer.from_pretrained(\"yiyanghkust/finbert-tone\")\n",
    "\n",
    "# Optional verification\n",
    "example_text = df[\"cleaned_text\"][0]\n",
    "tokens = tokenizer.tokenize(example_text)\n",
    "print(\"Example text:\", example_text)\n",
    "print(\"Tokenized output:\", tokens)\n"
   ]
  },
  {
   "cell_type": "code",
   "execution_count": 17,
   "id": "3046e379-720b-4e65-8a9d-c91d886a69f9",
   "metadata": {},
   "outputs": [
    {
     "name": "stdout",
     "output_type": "stream",
     "text": [
      "Index(['text', 'label'], dtype='object')\n",
      "                                                text  label\n",
      "0  technopolis plan develop stage area less 10000...      1\n",
      "1  international electronic industry company elco...      0\n",
      "2  new production plant company would increase ca...      2\n",
      "3  according company updated strategy year 200920...      2\n",
      "4  financing aspocomp growth aspocomp aggressivel...      2\n"
     ]
    }
   ],
   "source": [
    "# Create a new DataFrame with only the cleaned text and sentiment labels\n",
    "df_bert = df[[\"cleaned_text\", \"sentiment\"]].rename(columns={\"cleaned_text\": \"text\", \"sentiment\": \"label\"})\n",
    "\n",
    "# Verify the new DataFrame columns\n",
    "print(df_bert.columns)\n",
    "print(df_bert.head())\n"
   ]
  },
  {
   "cell_type": "code",
   "execution_count": 18,
   "id": "05108d22-d7e2-4d5f-a366-2a9b782d1505",
   "metadata": {},
   "outputs": [
    {
     "name": "stdout",
     "output_type": "stream",
     "text": [
      "Dataset({\n",
      "    features: ['text', 'label', '__index_level_0__'],\n",
      "    num_rows: 4839\n",
      "})\n",
      "{'text': 'technopolis plan develop stage area less 100000 square meter order host company working computer technology telecommunication statement said', 'label': 1, '__index_level_0__': 0}\n"
     ]
    }
   ],
   "source": [
    "from datasets import Dataset\n",
    "\n",
    "# Convert the new DataFrame to a Hugging Face Dataset\n",
    "dataset = Dataset.from_pandas(df_bert)\n",
    "\n",
    "# View basic info and the first sample\n",
    "print(dataset)\n",
    "print(dataset[0])\n"
   ]
  },
  {
   "cell_type": "code",
   "execution_count": 19,
   "id": "73350972-7101-4ce6-a9cc-d56e3fd30a49",
   "metadata": {},
   "outputs": [
    {
     "name": "stdout",
     "output_type": "stream",
     "text": [
      "Dataset({\n",
      "    features: ['text', 'label'],\n",
      "    num_rows: 4839\n",
      "})\n",
      "{'text': 'technopolis plan develop stage area less 100000 square meter order host company working computer technology telecommunication statement said', 'label': 1}\n"
     ]
    }
   ],
   "source": [
    "from datasets import Dataset\n",
    "\n",
    "# Convert the DataFrame to a Hugging Face Dataset without preserving the index\n",
    "dataset = Dataset.from_pandas(df_bert, preserve_index=False)\n",
    "\n",
    "# Verify the new dataset structure\n",
    "print(dataset)\n",
    "print(dataset[0])\n"
   ]
  },
  {
   "cell_type": "code",
   "execution_count": 20,
   "id": "8a07eb9b-ad1f-40af-b324-468a63785609",
   "metadata": {},
   "outputs": [
    {
     "data": {
      "application/vnd.jupyter.widget-view+json": {
       "model_id": "d5b3f5ee1d3940b8b9f991594d88fd83",
       "version_major": 2,
       "version_minor": 0
      },
      "text/plain": [
       "Map:   0%|          | 0/4839 [00:00<?, ? examples/s]"
      ]
     },
     "metadata": {},
     "output_type": "display_data"
    },
    {
     "name": "stdout",
     "output_type": "stream",
     "text": [
      "Dataset({\n",
      "    features: ['text', 'label', 'input_ids', 'token_type_ids', 'attention_mask'],\n",
      "    num_rows: 4839\n",
      "})\n",
      "{'text': 'technopolis plan develop stage area less 100000 square meter order host company working computer technology telecommunication statement said', 'label': 1, 'input_ids': [3, 26446, 24960, 63, 398, 811, 2543, 1108, 314, 8435, 1822, 1453, 10650, 440, 4039, 37, 464, 1795, 341, 9785, 704, 960, 4, 0, 0, 0, 0, 0, 0, 0, 0, 0, 0, 0, 0, 0, 0, 0, 0, 0, 0, 0, 0, 0, 0, 0, 0, 0, 0, 0, 0, 0, 0, 0, 0, 0, 0, 0, 0, 0, 0, 0, 0, 0, 0, 0, 0, 0, 0, 0, 0, 0, 0, 0, 0, 0, 0, 0, 0, 0, 0, 0, 0, 0, 0, 0, 0, 0, 0, 0, 0, 0, 0, 0, 0, 0, 0, 0, 0, 0, 0, 0, 0, 0, 0, 0, 0, 0, 0, 0, 0, 0, 0, 0, 0, 0, 0, 0, 0, 0, 0, 0, 0, 0, 0, 0, 0, 0], 'token_type_ids': [0, 0, 0, 0, 0, 0, 0, 0, 0, 0, 0, 0, 0, 0, 0, 0, 0, 0, 0, 0, 0, 0, 0, 0, 0, 0, 0, 0, 0, 0, 0, 0, 0, 0, 0, 0, 0, 0, 0, 0, 0, 0, 0, 0, 0, 0, 0, 0, 0, 0, 0, 0, 0, 0, 0, 0, 0, 0, 0, 0, 0, 0, 0, 0, 0, 0, 0, 0, 0, 0, 0, 0, 0, 0, 0, 0, 0, 0, 0, 0, 0, 0, 0, 0, 0, 0, 0, 0, 0, 0, 0, 0, 0, 0, 0, 0, 0, 0, 0, 0, 0, 0, 0, 0, 0, 0, 0, 0, 0, 0, 0, 0, 0, 0, 0, 0, 0, 0, 0, 0, 0, 0, 0, 0, 0, 0, 0, 0], 'attention_mask': [1, 1, 1, 1, 1, 1, 1, 1, 1, 1, 1, 1, 1, 1, 1, 1, 1, 1, 1, 1, 1, 1, 1, 0, 0, 0, 0, 0, 0, 0, 0, 0, 0, 0, 0, 0, 0, 0, 0, 0, 0, 0, 0, 0, 0, 0, 0, 0, 0, 0, 0, 0, 0, 0, 0, 0, 0, 0, 0, 0, 0, 0, 0, 0, 0, 0, 0, 0, 0, 0, 0, 0, 0, 0, 0, 0, 0, 0, 0, 0, 0, 0, 0, 0, 0, 0, 0, 0, 0, 0, 0, 0, 0, 0, 0, 0, 0, 0, 0, 0, 0, 0, 0, 0, 0, 0, 0, 0, 0, 0, 0, 0, 0, 0, 0, 0, 0, 0, 0, 0, 0, 0, 0, 0, 0, 0, 0, 0]}\n"
     ]
    }
   ],
   "source": [
    "# Define the tokenization function\n",
    "def tokenize_function(example):\n",
    "    return tokenizer(example[\"text\"], padding=\"max_length\", truncation=True, max_length=128)\n",
    "\n",
    "# Apply the tokenization function to the entire dataset in batches\n",
    "tokenized_dataset = dataset.map(tokenize_function, batched=True)\n",
    "\n",
    "# Verify the tokenized dataset structure\n",
    "print(tokenized_dataset)\n",
    "print(tokenized_dataset[0])\n",
    "\n"
   ]
  },
  {
   "cell_type": "code",
   "execution_count": 21,
   "id": "e7bbc8f6-fde5-4ab6-b51f-ac3c320e5399",
   "metadata": {},
   "outputs": [
    {
     "name": "stdout",
     "output_type": "stream",
     "text": [
      "Training dataset size: 3871\n",
      "Validation dataset size: 968\n"
     ]
    }
   ],
   "source": [
    "# Split the dataset using the train_test_split method\n",
    "split_dataset = tokenized_dataset.train_test_split(test_size=0.2, seed=42)\n",
    "\n",
    "# Assign the splits to train and validation sets\n",
    "train_dataset = split_dataset[\"train\"]\n",
    "eval_dataset = split_dataset[\"test\"]\n",
    "\n",
    "# Print out the sizes to verify\n",
    "print(f\"Training dataset size: {len(train_dataset)}\")\n",
    "print(f\"Validation dataset size: {len(eval_dataset)}\")\n"
   ]
  },
  {
   "cell_type": "code",
   "execution_count": 22,
   "id": "217e4b70-309d-4104-b1f1-eab56ba12897",
   "metadata": {},
   "outputs": [
    {
     "name": "stdout",
     "output_type": "stream",
     "text": [
      "Model loaded successfully!\n"
     ]
    }
   ],
   "source": [
    "from transformers import AutoModelForSequenceClassification\n",
    "\n",
    "# Load the FinBERT model for sentiment classification (3 labels: negative, neutral, positive)\n",
    "model = AutoModelForSequenceClassification.from_pretrained(\"yiyanghkust/finbert-tone\", num_labels=3)\n",
    "\n",
    "# Verify that the model is loaded\n",
    "print(\"Model loaded successfully!\")\n"
   ]
  },
  {
   "cell_type": "code",
   "execution_count": 23,
   "id": "c875ead4-dd5e-4226-978a-efafb1ff5953",
   "metadata": {},
   "outputs": [
    {
     "name": "stdout",
     "output_type": "stream",
     "text": [
      "Trainer initialized successfully!\n"
     ]
    },
    {
     "name": "stderr",
     "output_type": "stream",
     "text": [
      "C:\\Users\\ashak\\anaconda3\\envs\\qisk-latest\\lib\\site-packages\\transformers\\training_args.py:1594: FutureWarning: `evaluation_strategy` is deprecated and will be removed in version 4.46 of 🤗 Transformers. Use `eval_strategy` instead\n",
      "  warnings.warn(\n",
      "C:\\Users\\ashak\\AppData\\Local\\Temp\\ipykernel_14696\\3629067883.py:19: FutureWarning: `tokenizer` is deprecated and will be removed in version 5.0.0 for `Trainer.__init__`. Use `processing_class` instead.\n",
      "  trainer = Trainer(\n"
     ]
    }
   ],
   "source": [
    "from transformers import TrainingArguments, Trainer\n",
    "\n",
    "# Define training arguments\n",
    "training_args = TrainingArguments(\n",
    "    output_dir=\"./finbert_model\",        # Directory to save model checkpoints\n",
    "    evaluation_strategy=\"epoch\",         # Evaluate at the end of each epoch (deprecated: use eval_strategy in future versions)\n",
    "    save_strategy=\"epoch\",               # Save model at the end of each epoch\n",
    "    learning_rate=2e-5,                  # Standard fine-tuning learning rate\n",
    "    per_device_train_batch_size=16,      # Batch size for training\n",
    "    per_device_eval_batch_size=16,       # Batch size for evaluation\n",
    "    num_train_epochs=3,                  # Number of epochs to train\n",
    "    weight_decay=0.01,                   # Regularization to prevent overfitting\n",
    "    logging_dir=\"./logs\",                # Directory for logs\n",
    "    logging_steps=200,                   # Logging frequency\n",
    "    load_best_model_at_end=True          # Automatically load the best model after training\n",
    ")\n",
    "\n",
    "# Initialize the Trainer\n",
    "trainer = Trainer(\n",
    "    model=model,\n",
    "    args=training_args,\n",
    "    train_dataset=train_dataset,\n",
    "    eval_dataset=eval_dataset,\n",
    "    tokenizer=tokenizer,  # Use the FinBERT tokenizer during evaluation\n",
    ")\n",
    "\n",
    "print(\"Trainer initialized successfully!\")\n"
   ]
  },
  {
   "cell_type": "code",
   "execution_count": 24,
   "id": "1fb2a9d3-1d96-4783-9677-2c5038986bf9",
   "metadata": {},
   "outputs": [
    {
     "data": {
      "text/html": [
       "\n",
       "    <div>\n",
       "      \n",
       "      <progress value='726' max='726' style='width:300px; height:20px; vertical-align: middle;'></progress>\n",
       "      [726/726 42:44, Epoch 3/3]\n",
       "    </div>\n",
       "    <table border=\"1\" class=\"dataframe\">\n",
       "  <thead>\n",
       " <tr style=\"text-align: left;\">\n",
       "      <th>Epoch</th>\n",
       "      <th>Training Loss</th>\n",
       "      <th>Validation Loss</th>\n",
       "    </tr>\n",
       "  </thead>\n",
       "  <tbody>\n",
       "    <tr>\n",
       "      <td>1</td>\n",
       "      <td>0.951000</td>\n",
       "      <td>0.577578</td>\n",
       "    </tr>\n",
       "    <tr>\n",
       "      <td>2</td>\n",
       "      <td>0.443400</td>\n",
       "      <td>0.536777</td>\n",
       "    </tr>\n",
       "    <tr>\n",
       "      <td>3</td>\n",
       "      <td>0.296200</td>\n",
       "      <td>0.610047</td>\n",
       "    </tr>\n",
       "  </tbody>\n",
       "</table><p>"
      ],
      "text/plain": [
       "<IPython.core.display.HTML object>"
      ]
     },
     "metadata": {},
     "output_type": "display_data"
    },
    {
     "data": {
      "text/plain": [
       "TrainOutput(global_step=726, training_loss=0.4992187226770995, metrics={'train_runtime': 2568.6194, 'train_samples_per_second': 4.521, 'train_steps_per_second': 0.283, 'total_flos': 763884030018816.0, 'train_loss': 0.4992187226770995, 'epoch': 3.0})"
      ]
     },
     "execution_count": 24,
     "metadata": {},
     "output_type": "execute_result"
    }
   ],
   "source": [
    "# 9.6 — Train the FinBERT model\n",
    "trainer.train()\n"
   ]
  },
  {
   "cell_type": "code",
   "execution_count": 25,
   "id": "29ad9f71-a861-4a15-ae6c-7ad704589eef",
   "metadata": {},
   "outputs": [],
   "source": [
    "#Qiskit"
   ]
  },
  {
   "cell_type": "code",
   "execution_count": 26,
   "id": "fbd5aef9-200d-471a-b51a-74ecddf824bd",
   "metadata": {},
   "outputs": [
    {
     "name": "stdout",
     "output_type": "stream",
     "text": [
      "Binary: 00, LR: 1e-05, Cost: 4.977141530112326e-08\n",
      "Binary: 01, LR: 2e-05, Cost: -1.3826430117118465e-08\n",
      "Binary: 10, LR: 3e-05, Cost: 6.486885381006924e-08\n",
      "Binary: 11, LR: 4e-05, Cost: 1.5270298564080254e-07\n"
     ]
    }
   ],
   "source": [
    "import numpy as np\n",
    "\n",
    "# Define the mapping\n",
    "binary_to_lr = {\n",
    "    '00': 1e-5,\n",
    "    '01': 2e-5,\n",
    "    '10': 3e-5,\n",
    "    '11': 4e-5\n",
    "}\n",
    "\n",
    "# Simulated cost function: Suppose the \"true\" best learning rate is 2e-5\n",
    "def simulated_cost(binary_string):\n",
    "    lr = binary_to_lr[binary_string]\n",
    "    # For example, use a quadratic function centered at 2e-5 (binary '01')\n",
    "    # Cost = (lr - 2e-5)^2 (plus some noise)\n",
    "    noise = np.random.normal(0, 1e-7)\n",
    "    return (lr - 2e-5)**2 + noise\n",
    "\n",
    "# Test the cost function\n",
    "for b in binary_to_lr.keys():\n",
    "    print(f\"Binary: {b}, LR: {binary_to_lr[b]}, Cost: {simulated_cost(b)}\")\n"
   ]
  },
  {
   "cell_type": "code",
   "execution_count": 27,
   "id": "015a3e90-a8c0-4458-ad7f-59f658b5f142",
   "metadata": {},
   "outputs": [
    {
     "name": "stdout",
     "output_type": "stream",
     "text": [
      "Binary: 00, LR: 1e-05, Cost: -2.3315337472333595e-08\n",
      "Binary: 01, LR: 2e-05, Cost: -2.3413695694918055e-08\n",
      "Binary: 10, LR: 3e-05, Cost: 1.5802128155073915e-07\n",
      "Binary: 11, LR: 4e-05, Cost: 7.714347291529088e-08\n"
     ]
    }
   ],
   "source": [
    "binary_to_lr = {\n",
    "    '00': 1e-5,\n",
    "    '01': 2e-5,\n",
    "    '10': 3e-5,\n",
    "    '11': 4e-5\n",
    "}\n",
    "\n",
    "def simulated_cost(binary_string):\n",
    "    lr = binary_to_lr[binary_string]\n",
    "    noise = np.random.normal(0, 1e-7)\n",
    "    return (lr - 2e-5)**2 + noise\n",
    "\n",
    "for b in binary_to_lr.keys():\n",
    "    print(f\"Binary: {b}, LR: {binary_to_lr[b]}, Cost: {simulated_cost(b)}\")\n"
   ]
  },
  {
   "cell_type": "code",
   "execution_count": 28,
   "id": "b7e4b984-da7c-4f94-82b4-8ce0c25c5979",
   "metadata": {},
   "outputs": [
    {
     "name": "stdout",
     "output_type": "stream",
     "text": [
      "Requirement already satisfied: qiskit-optimization in c:\\users\\ashak\\anaconda3\\envs\\qisk-latest\\lib\\site-packages (0.6.1)\n",
      "Requirement already satisfied: qiskit>=0.44 in c:\\users\\ashak\\anaconda3\\envs\\qisk-latest\\lib\\site-packages (from qiskit-optimization) (1.4.2)\n",
      "Requirement already satisfied: qiskit-algorithms>=0.2.0 in c:\\users\\ashak\\anaconda3\\envs\\qisk-latest\\lib\\site-packages (from qiskit-optimization) (0.3.1)\n",
      "Requirement already satisfied: scipy>=1.9.0 in c:\\users\\ashak\\anaconda3\\envs\\qisk-latest\\lib\\site-packages (from qiskit-optimization) (1.15.2)\n",
      "Requirement already satisfied: numpy>=1.17 in c:\\users\\ashak\\anaconda3\\envs\\qisk-latest\\lib\\site-packages (from qiskit-optimization) (2.2.4)\n",
      "Requirement already satisfied: docplex!=2.24.231,>=2.21.207 in c:\\users\\ashak\\anaconda3\\envs\\qisk-latest\\lib\\site-packages (from qiskit-optimization) (2.29.241)\n",
      "Requirement already satisfied: setuptools>=40.1.0 in c:\\users\\ashak\\anaconda3\\envs\\qisk-latest\\lib\\site-packages (from qiskit-optimization) (75.8.2)\n",
      "Requirement already satisfied: networkx>=2.6.3 in c:\\users\\ashak\\anaconda3\\envs\\qisk-latest\\lib\\site-packages (from qiskit-optimization) (3.4.2)\n",
      "Requirement already satisfied: six in c:\\users\\ashak\\anaconda3\\envs\\qisk-latest\\lib\\site-packages (from docplex!=2.24.231,>=2.21.207->qiskit-optimization) (1.17.0)\n",
      "Requirement already satisfied: rustworkx>=0.15.0 in c:\\users\\ashak\\anaconda3\\envs\\qisk-latest\\lib\\site-packages (from qiskit>=0.44->qiskit-optimization) (0.16.0)\n",
      "Requirement already satisfied: sympy>=1.3 in c:\\users\\ashak\\anaconda3\\envs\\qisk-latest\\lib\\site-packages (from qiskit>=0.44->qiskit-optimization) (1.13.1)\n",
      "Requirement already satisfied: dill>=0.3 in c:\\users\\ashak\\anaconda3\\envs\\qisk-latest\\lib\\site-packages (from qiskit>=0.44->qiskit-optimization) (0.3.8)\n",
      "Requirement already satisfied: python-dateutil>=2.8.0 in c:\\users\\ashak\\anaconda3\\envs\\qisk-latest\\lib\\site-packages (from qiskit>=0.44->qiskit-optimization) (2.9.0.post0)\n",
      "Requirement already satisfied: stevedore>=3.0.0 in c:\\users\\ashak\\anaconda3\\envs\\qisk-latest\\lib\\site-packages (from qiskit>=0.44->qiskit-optimization) (5.4.1)\n",
      "Requirement already satisfied: typing-extensions in c:\\users\\ashak\\anaconda3\\envs\\qisk-latest\\lib\\site-packages (from qiskit>=0.44->qiskit-optimization) (4.12.2)\n",
      "Requirement already satisfied: symengine<0.14,>=0.11 in c:\\users\\ashak\\anaconda3\\envs\\qisk-latest\\lib\\site-packages (from qiskit>=0.44->qiskit-optimization) (0.13.0)\n",
      "Requirement already satisfied: pbr>=2.0.0 in c:\\users\\ashak\\anaconda3\\envs\\qisk-latest\\lib\\site-packages (from stevedore>=3.0.0->qiskit>=0.44->qiskit-optimization) (6.1.1)\n",
      "Requirement already satisfied: mpmath<1.4,>=1.1.0 in c:\\users\\ashak\\anaconda3\\envs\\qisk-latest\\lib\\site-packages (from sympy>=1.3->qiskit>=0.44->qiskit-optimization) (1.3.0)\n"
     ]
    }
   ],
   "source": [
    "!pip install qiskit-optimization\n"
   ]
  },
  {
   "cell_type": "code",
   "execution_count": 29,
   "id": "2d481050-8bbe-46a0-b8ac-4f1a841876a6",
   "metadata": {},
   "outputs": [
    {
     "name": "stdout",
     "output_type": "stream",
     "text": [
      "\\ This file has been generated by DOcplex\n",
      "\\ ENCODING=ISO-8859-1\n",
      "\\Problem name: CPLEX\n",
      "\n",
      "Minimize\n",
      " obj: 0.000000015090 x0 - 0.000000063590 x1 + [ 0.000000302860 x0*x1 ]/2 +\n",
      "      0.000000049770\n",
      "Subject To\n",
      "\n",
      "Bounds\n",
      " 0 <= x0 <= 1\n",
      " 0 <= x1 <= 1\n",
      "\n",
      "Binaries\n",
      " x0 x1\n",
      "End\n",
      "\n"
     ]
    }
   ],
   "source": [
    "from qiskit_optimization import QuadraticProgram\n",
    "\n",
    "# Define the cost values for each binary representation of learning rates\n",
    "costs = {\n",
    "    \"00\": 4.977e-08,   # LR = 1e-5\n",
    "    \"01\": -1.382e-08,  # LR = 2e-5\n",
    "    \"10\": 6.486e-08,   # LR = 3e-5\n",
    "    \"11\": 1.527e-07    # LR = 4e-5\n",
    "}\n",
    "\n",
    "# Create a Quadratic Program\n",
    "qubo = QuadraticProgram()\n",
    "\n",
    "# Add binary variables x0 (MSB) and x1 (LSB)\n",
    "qubo.binary_var('x0')\n",
    "qubo.binary_var('x1')\n",
    "\n",
    "# Construct objective function: cost = c0 + c1*x1 + c2*x0 + c3*x0*x1\n",
    "# Map binary strings to coefficients\n",
    "c0 = costs['00']\n",
    "c1 = costs['01'] - costs['00']\n",
    "c2 = costs['10'] - costs['00']\n",
    "c3 = costs['11'] - costs['10'] - costs['01'] + costs['00']\n",
    "\n",
    "# Set objective\n",
    "qubo.minimize(constant=c0, linear={'x1': c1, 'x0': c2}, quadratic={('x0', 'x1'): c3})\n",
    "\n",
    "# Print the QUBO\n",
    "print(qubo.export_as_lp_string())\n"
   ]
  },
  {
   "cell_type": "code",
   "execution_count": 30,
   "id": "d7dc48d5-c01b-4a33-b470-257c359d7c84",
   "metadata": {
    "scrolled": true
   },
   "outputs": [
    {
     "name": "stderr",
     "output_type": "stream",
     "text": [
      "C:\\Users\\ashak\\AppData\\Local\\Temp\\ipykernel_14696\\4113150728.py:11: DeprecationWarning: The class ``qiskit.primitives.sampler.Sampler`` is deprecated as of qiskit 1.2. It will be removed no earlier than 3 months after the release date. All implementations of the `BaseSamplerV1` interface have been deprecated in favor of their V2 counterparts. The V2 alternative for the `Sampler` class is `StatevectorSampler`.\n",
      "  qaoa = QAOA(sampler=Sampler(), optimizer=COBYLA(), reps=1)\n"
     ]
    },
    {
     "name": "stdout",
     "output_type": "stream",
     "text": [
      "🔍 Optimal binary solution: [0. 1.]\n",
      "💸 Minimum cost value: -1.382e-08\n"
     ]
    }
   ],
   "source": [
    "from qiskit_algorithms import QAOA\n",
    "from qiskit_algorithms.optimizers import COBYLA\n",
    "from qiskit_algorithms.utils import algorithm_globals\n",
    "from qiskit.primitives import Sampler\n",
    "from qiskit_optimization.algorithms import MinimumEigenOptimizer\n",
    "\n",
    "# Set seed for reproducibility\n",
    "algorithm_globals.random_seed = 42\n",
    "\n",
    "# Initialize QAOA\n",
    "qaoa = QAOA(sampler=Sampler(), optimizer=COBYLA(), reps=1)\n",
    "\n",
    "# Wrap it in an optimizer\n",
    "optimizer = MinimumEigenOptimizer(qaoa)\n",
    "\n",
    "# Solve the QUBO problem\n",
    "result = optimizer.solve(qubo)\n",
    "\n",
    "# Show result\n",
    "print(\"🔍 Optimal binary solution:\", result.x)\n",
    "print(\"💸 Minimum cost value:\", result.fval)\n"
   ]
  },
  {
   "cell_type": "code",
   "execution_count": 31,
   "id": "02298fd7-0e14-4f1d-999e-9ac33604e711",
   "metadata": {},
   "outputs": [
    {
     "name": "stderr",
     "output_type": "stream",
     "text": [
      "C:\\Users\\ashak\\anaconda3\\envs\\qisk-latest\\lib\\site-packages\\transformers\\training_args.py:1594: FutureWarning: `evaluation_strategy` is deprecated and will be removed in version 4.46 of 🤗 Transformers. Use `eval_strategy` instead\n",
      "  warnings.warn(\n",
      "C:\\Users\\ashak\\AppData\\Local\\Temp\\ipykernel_14696\\2502425535.py:19: FutureWarning: `tokenizer` is deprecated and will be removed in version 5.0.0 for `Trainer.__init__`. Use `processing_class` instead.\n",
      "  trainer_qaoa = Trainer(\n"
     ]
    },
    {
     "data": {
      "text/html": [
       "\n",
       "    <div>\n",
       "      \n",
       "      <progress value='726' max='726' style='width:300px; height:20px; vertical-align: middle;'></progress>\n",
       "      [726/726 43:22, Epoch 3/3]\n",
       "    </div>\n",
       "    <table border=\"1\" class=\"dataframe\">\n",
       "  <thead>\n",
       " <tr style=\"text-align: left;\">\n",
       "      <th>Epoch</th>\n",
       "      <th>Training Loss</th>\n",
       "      <th>Validation Loss</th>\n",
       "    </tr>\n",
       "  </thead>\n",
       "  <tbody>\n",
       "    <tr>\n",
       "      <td>1</td>\n",
       "      <td>0.154300</td>\n",
       "      <td>0.940849</td>\n",
       "    </tr>\n",
       "    <tr>\n",
       "      <td>2</td>\n",
       "      <td>0.059400</td>\n",
       "      <td>1.093056</td>\n",
       "    </tr>\n",
       "    <tr>\n",
       "      <td>3</td>\n",
       "      <td>0.076600</td>\n",
       "      <td>1.165379</td>\n",
       "    </tr>\n",
       "  </tbody>\n",
       "</table><p>"
      ],
      "text/plain": [
       "<IPython.core.display.HTML object>"
      ]
     },
     "metadata": {},
     "output_type": "display_data"
    },
    {
     "data": {
      "text/plain": [
       "TrainOutput(global_step=726, training_loss=0.09064344729273772, metrics={'train_runtime': 2606.0015, 'train_samples_per_second': 4.456, 'train_steps_per_second': 0.279, 'total_flos': 763884030018816.0, 'train_loss': 0.09064344729273772, 'epoch': 3.0})"
      ]
     },
     "execution_count": 31,
     "metadata": {},
     "output_type": "execute_result"
    }
   ],
   "source": [
    "from transformers import TrainingArguments, Trainer\n",
    "\n",
    "# New training arguments using QAOA-optimized learning rate (2e-5)\n",
    "training_args_qaoa = TrainingArguments(\n",
    "    output_dir=\"./finbert_qaoa_model\",\n",
    "    evaluation_strategy=\"epoch\",\n",
    "    save_strategy=\"epoch\",\n",
    "    learning_rate=2e-5,  # QAOA result\n",
    "    per_device_train_batch_size=16,\n",
    "    per_device_eval_batch_size=16,\n",
    "    num_train_epochs=3,\n",
    "    weight_decay=0.01,\n",
    "    logging_dir=\"./logs_qaoa\",\n",
    "    logging_steps=200,\n",
    "    load_best_model_at_end=True\n",
    ")\n",
    "\n",
    "# Reuse the same Trainer setup\n",
    "trainer_qaoa = Trainer(\n",
    "    model=model,\n",
    "    args=training_args_qaoa,\n",
    "    train_dataset=train_dataset,\n",
    "    eval_dataset=eval_dataset,\n",
    "    tokenizer=tokenizer\n",
    ")\n",
    "\n",
    "# Train the model again using QAOA learning rate\n",
    "trainer_qaoa.train()\n"
   ]
  },
  {
   "cell_type": "code",
   "execution_count": 32,
   "id": "ca951584-5d84-4f89-ac8c-140fc3e09e22",
   "metadata": {},
   "outputs": [
    {
     "data": {
      "text/html": [],
      "text/plain": [
       "<IPython.core.display.HTML object>"
      ]
     },
     "metadata": {},
     "output_type": "display_data"
    },
    {
     "name": "stdout",
     "output_type": "stream",
     "text": [
      "📈 Accuracy: 0.7789\n",
      "\n",
      "🧾 Classification Report:\n",
      "              precision    recall  f1-score   support\n",
      "\n",
      "    negative       0.63      0.82      0.71       125\n",
      "     neutral       0.85      0.83      0.84       574\n",
      "    positive       0.72      0.65      0.68       269\n",
      "\n",
      "    accuracy                           0.78       968\n",
      "   macro avg       0.73      0.77      0.74       968\n",
      "weighted avg       0.78      0.78      0.78       968\n",
      "\n",
      "🧩 Confusion Matrix:\n",
      "[[102  10  13]\n",
      " [ 42 477  55]\n",
      " [ 18  76 175]]\n"
     ]
    }
   ],
   "source": [
    "from sklearn.metrics import accuracy_score, classification_report, confusion_matrix\n",
    "import numpy as np\n",
    "\n",
    "# Predict on validation set\n",
    "predictions = trainer_qaoa.predict(eval_dataset)\n",
    "preds = np.argmax(predictions.predictions, axis=1)\n",
    "labels = predictions.label_ids\n",
    "\n",
    "# Accuracy\n",
    "accuracy = accuracy_score(labels, preds)\n",
    "print(f\"📈 Accuracy: {accuracy:.4f}\\n\")\n",
    "\n",
    "# Detailed report\n",
    "print(\"🧾 Classification Report:\")\n",
    "print(classification_report(labels, preds, target_names=['negative', 'neutral', 'positive']))\n",
    "\n",
    "# Confusion matrix\n",
    "print(\"🧩 Confusion Matrix:\")\n",
    "print(confusion_matrix(labels, preds))\n"
   ]
  },
  {
   "cell_type": "code",
   "execution_count": 33,
   "id": "d0885af1-97cf-42ba-83a0-b8ea33bc11ba",
   "metadata": {},
   "outputs": [
    {
     "name": "stdout",
     "output_type": "stream",
     "text": [
      "✅ Model and tokenizer saved to: ./finbert_qaoa_final\n"
     ]
    }
   ],
   "source": [
    "# Save the model and tokenizer to a directory\n",
    "save_path = \"./finbert_qaoa_final\"\n",
    "\n",
    "model.save_pretrained(save_path)\n",
    "tokenizer.save_pretrained(save_path)\n",
    "\n",
    "print(f\"✅ Model and tokenizer saved to: {save_path}\")\n"
   ]
  },
  {
   "cell_type": "code",
   "execution_count": 34,
   "id": "6c5b1670-ef72-44bf-bf06-dc80d68bd2eb",
   "metadata": {},
   "outputs": [
    {
     "name": "stdout",
     "output_type": "stream",
     "text": [
      "Step 0: {'loss': 0.951, 'grad_norm': 8.55810832977295, 'learning_rate': 1.4490358126721765e-05, 'epoch': 0.8264462809917356, 'step': 200}\n",
      "Step 1: {'eval_loss': 0.5775777697563171, 'eval_runtime': 55.9893, 'eval_samples_per_second': 17.289, 'eval_steps_per_second': 1.089, 'epoch': 1.0, 'step': 242}\n",
      "Step 2: {'loss': 0.4434, 'grad_norm': 12.087716102600098, 'learning_rate': 8.980716253443526e-06, 'epoch': 1.6528925619834711, 'step': 400}\n",
      "Step 3: {'eval_loss': 0.5367769598960876, 'eval_runtime': 50.9141, 'eval_samples_per_second': 19.012, 'eval_steps_per_second': 1.198, 'epoch': 2.0, 'step': 484}\n",
      "Step 4: {'loss': 0.2962, 'grad_norm': 9.591241836547852, 'learning_rate': 3.4710743801652895e-06, 'epoch': 2.479338842975207, 'step': 600}\n",
      "Step 5: {'eval_loss': 0.6100466251373291, 'eval_runtime': 51.2668, 'eval_samples_per_second': 18.882, 'eval_steps_per_second': 1.19, 'epoch': 3.0, 'step': 726}\n",
      "Step 6: {'train_runtime': 2568.6194, 'train_samples_per_second': 4.521, 'train_steps_per_second': 0.283, 'total_flos': 763884030018816.0, 'train_loss': 0.4992187226770995, 'epoch': 3.0, 'step': 726}\n"
     ]
    }
   ],
   "source": [
    "# Check what keys and entries exist in log history\n",
    "for i, log in enumerate(trainer.state.log_history):\n",
    "    print(f\"Step {i}: {log}\")\n"
   ]
  },
  {
   "cell_type": "code",
   "execution_count": 35,
   "id": "7306846e-7a49-41e9-9399-e553a7fbe0ee",
   "metadata": {},
   "outputs": [
    {
     "data": {
      "image/png": "[encoded data removed]",
      "text/plain": [
       "<Figure size 1000x500 with 1 Axes>"
      ]
     },
     "metadata": {},
     "output_type": "display_data"
    }
   ],
   "source": [
    "import matplotlib.pyplot as plt\n",
    "\n",
    "# Initialize lists to collect data\n",
    "train_steps = []\n",
    "train_losses = []\n",
    "eval_steps = []\n",
    "eval_losses = []\n",
    "\n",
    "# Parse log history\n",
    "for entry in trainer.state.log_history:\n",
    "    if \"loss\" in entry and \"step\" in entry:\n",
    "        train_steps.append(entry[\"step\"])\n",
    "        train_losses.append(entry[\"loss\"])\n",
    "    elif \"eval_loss\" in entry and \"step\" in entry:\n",
    "        eval_steps.append(entry[\"step\"])\n",
    "        eval_losses.append(entry[\"eval_loss\"])\n",
    "\n",
    "# Plot the losses\n",
    "plt.figure(figsize=(10, 5))\n",
    "plt.plot(train_steps, train_losses, label=\"Training Loss\", marker='o')\n",
    "plt.plot(eval_steps, eval_losses, label=\"Validation Loss\", marker='s')\n",
    "plt.xlabel(\"Training Steps\")\n",
    "plt.ylabel(\"Loss\")\n",
    "plt.title(\"Training and Validation Loss Over Time\")\n",
    "plt.legend()\n",
    "plt.grid(True)\n",
    "plt.show()\n"
   ]
  },
  {
   "cell_type": "code",
   "execution_count": 39,
   "id": "f475db76-1c39-4346-bdd4-254901029603",
   "metadata": {},
   "outputs": [
    {
     "data": {
      "text/html": [],
      "text/plain": [
       "<IPython.core.display.HTML object>"
      ]
     },
     "metadata": {},
     "output_type": "display_data"
    },
    {
     "name": "stdout",
     "output_type": "stream",
     "text": [
      "✅ Predictions and labels extracted!\n"
     ]
    }
   ],
   "source": [
    "# 🔮 Make predictions on the evaluation dataset\n",
    "predictions = trainer.predict(eval_dataset)\n",
    "\n",
    "# Extract true labels and predicted labels\n",
    "y_pred = np.argmax(predictions.predictions, axis=1)\n",
    "y_true = predictions.label_ids\n",
    "\n",
    "# Confirm extraction worked\n",
    "print(\"✅ Predictions and labels extracted!\")\n"
   ]
  },
  {
   "cell_type": "code",
   "execution_count": 40,
   "id": "6de5fcf5-0573-464e-8c68-8ac1df2c2f9d",
   "metadata": {},
   "outputs": [
    {
     "data": {
      "image/png": "[encoded data removed]",
      "text/plain": [
       "<Figure size 800x600 with 2 Axes>"
      ]
     },
     "metadata": {},
     "output_type": "display_data"
    },
    {
     "name": "stdout",
     "output_type": "stream",
     "text": [
      "\n",
      "🧾 Classification Report:\n",
      "\n",
      "              precision    recall  f1-score   support\n",
      "\n",
      "    Negative       0.63      0.82      0.71       125\n",
      "     Neutral       0.85      0.83      0.84       574\n",
      "    Positive       0.72      0.65      0.68       269\n",
      "\n",
      "    accuracy                           0.78       968\n",
      "   macro avg       0.73      0.77      0.74       968\n",
      "weighted avg       0.78      0.78      0.78       968\n",
      "\n"
     ]
    }
   ],
   "source": [
    "import seaborn as sns\n",
    "from sklearn.metrics import confusion_matrix, classification_report\n",
    "\n",
    "# Define label mapping\n",
    "label_map = {0: \"Negative\", 1: \"Neutral\", 2: \"Positive\"}\n",
    "\n",
    "# Compute confusion matrix\n",
    "cm = confusion_matrix(y_true, y_pred)\n",
    "\n",
    "# Plot confusion matrix\n",
    "plt.figure(figsize=(8, 6))\n",
    "sns.heatmap(cm, annot=True, fmt=\"d\", cmap=\"Blues\", xticklabels=label_map.values(), yticklabels=label_map.values())\n",
    "plt.xlabel(\"Predicted Label\")\n",
    "plt.ylabel(\"True Label\")\n",
    "plt.title(\"Confusion Matrix\")\n",
    "plt.show()\n",
    "\n",
    "# Print classification report\n",
    "print(\"\\n🧾 Classification Report:\\n\")\n",
    "print(classification_report(y_true, y_pred, target_names=label_map.values()))\n"
   ]
  },
  {
   "cell_type": "code",
   "execution_count": 43,
   "id": "799ca7ad-801e-4fda-b9ab-d4e2921762c3",
   "metadata": {},
   "outputs": [],
   "source": [
    "logging_dir=\"./logs\",\n",
    "logging_strategy=\"epoch\",  # Or \"steps\"\n",
    "logging_steps=200,         # Only relevant if strategy is \"steps\"\n"
   ]
  },
  {
   "cell_type": "code",
   "execution_count": 44,
   "id": "34a7b063-ef4a-40ef-8fda-eb4837942b1f",
   "metadata": {},
   "outputs": [],
   "source": [
    "logging_dir=\"./logs\",\n",
    "logging_steps=200,\n"
   ]
  },
  {
   "cell_type": "code",
   "execution_count": 45,
   "id": "d8f433c5-e1bd-4299-9bbd-474c786bd1e3",
   "metadata": {},
   "outputs": [],
   "source": [
    "logging_strategy=\"epoch\"\n"
   ]
  },
  {
   "cell_type": "code",
   "execution_count": 46,
   "id": "ba893265-d4eb-4657-adb4-79bbeaaaf8d3",
   "metadata": {},
   "outputs": [
    {
     "name": "stderr",
     "output_type": "stream",
     "text": [
      "C:\\Users\\ashak\\anaconda3\\envs\\qisk-latest\\lib\\site-packages\\transformers\\training_args.py:1594: FutureWarning: `evaluation_strategy` is deprecated and will be removed in version 4.46 of 🤗 Transformers. Use `eval_strategy` instead\n",
      "  warnings.warn(\n"
     ]
    }
   ],
   "source": [
    "from transformers import TrainingArguments\n",
    "\n",
    "training_args = TrainingArguments(\n",
    "    output_dir=\"./finbert_model\",\n",
    "    evaluation_strategy=\"epoch\",\n",
    "    save_strategy=\"epoch\",\n",
    "    logging_strategy=\"epoch\",        # ✅ ADD THIS LINE\n",
    "    learning_rate=2e-5,\n",
    "    per_device_train_batch_size=16,\n",
    "    per_device_eval_batch_size=16,\n",
    "    num_train_epochs=3,\n",
    "    weight_decay=0.01,\n",
    "    logging_dir=\"./logs\",\n",
    "    logging_steps=200,\n",
    "    load_best_model_at_end=True\n",
    ")\n"
   ]
  },
  {
   "cell_type": "code",
   "execution_count": 48,
   "id": "5939a6d1-066c-4c9b-9de2-1555def892e4",
   "metadata": {},
   "outputs": [
    {
     "name": "stderr",
     "output_type": "stream",
     "text": [
      "C:\\Users\\ashak\\AppData\\Local\\Temp\\ipykernel_14696\\2352452074.py:3: FutureWarning: `tokenizer` is deprecated and will be removed in version 5.0.0 for `Trainer.__init__`. Use `processing_class` instead.\n",
      "  trainer = Trainer(\n"
     ]
    },
    {
     "data": {
      "text/html": [
       "\n",
       "    <div>\n",
       "      \n",
       "      <progress value='726' max='726' style='width:300px; height:20px; vertical-align: middle;'></progress>\n",
       "      [726/726 43:11, Epoch 3/3]\n",
       "    </div>\n",
       "    <table border=\"1\" class=\"dataframe\">\n",
       "  <thead>\n",
       " <tr style=\"text-align: left;\">\n",
       "      <th>Epoch</th>\n",
       "      <th>Training Loss</th>\n",
       "      <th>Validation Loss</th>\n",
       "    </tr>\n",
       "  </thead>\n",
       "  <tbody>\n",
       "    <tr>\n",
       "      <td>1</td>\n",
       "      <td>0.053200</td>\n",
       "      <td>1.416540</td>\n",
       "    </tr>\n",
       "    <tr>\n",
       "      <td>2</td>\n",
       "      <td>0.046100</td>\n",
       "      <td>1.351174</td>\n",
       "    </tr>\n",
       "    <tr>\n",
       "      <td>3</td>\n",
       "      <td>0.071900</td>\n",
       "      <td>1.369482</td>\n",
       "    </tr>\n",
       "  </tbody>\n",
       "</table><p>"
      ],
      "text/plain": [
       "<IPython.core.display.HTML object>"
      ]
     },
     "metadata": {},
     "output_type": "display_data"
    },
    {
     "data": {
      "text/plain": [
       "TrainOutput(global_step=726, training_loss=0.05708021237502085, metrics={'train_runtime': 2594.6217, 'train_samples_per_second': 4.476, 'train_steps_per_second': 0.28, 'total_flos': 763884030018816.0, 'train_loss': 0.05708021237502085, 'epoch': 3.0})"
      ]
     },
     "execution_count": 48,
     "metadata": {},
     "output_type": "execute_result"
    }
   ],
   "source": [
    "from transformers import Trainer\n",
    "\n",
    "trainer = Trainer(\n",
    "    model=model,\n",
    "    args=training_args,\n",
    "    train_dataset=train_dataset,\n",
    "    eval_dataset=eval_dataset,\n",
    "    tokenizer=tokenizer\n",
    ")\n",
    "\n",
    "trainer.train()\n"
   ]
  },
  {
   "cell_type": "code",
   "execution_count": 50,
   "id": "4e2477b3-97a6-4040-b0ea-70cc0f5dd313",
   "metadata": {},
   "outputs": [
    {
     "data": {
      "image/png": "[encoded data removed]",
      "text/plain": [
       "<Figure size 640x480 with 1 Axes>"
      ]
     },
     "metadata": {},
     "output_type": "display_data"
    }
   ],
   "source": [
    "# Visualize training and validation loss curves\n",
    "import matplotlib.pyplot as plt\n",
    "\n",
    "# Extract loss values from trainer state\n",
    "log_history = trainer.state.log_history\n",
    "\n",
    "train_loss = [entry['loss'] for entry in log_history if 'loss' in entry]\n",
    "eval_loss = [entry['eval_loss'] for entry in log_history if 'eval_loss' in entry]\n",
    "steps = list(range(1, len(train_loss) + 1))\n",
    "\n",
    "# Plot\n",
    "plt.plot(steps, train_loss, label=\"Training Loss\")\n",
    "plt.plot(steps, eval_loss, label=\"Validation Loss\")\n",
    "plt.xlabel(\"Epoch\")\n",
    "plt.ylabel(\"Loss\")\n",
    "plt.title(\"Loss Curve\")\n",
    "plt.legend()\n",
    "plt.grid(True)\n",
    "plt.show()\n"
   ]
  },
  {
   "cell_type": "code",
   "execution_count": null,
   "id": "bbfe573e-89f1-4a11-b89f-c96cd76fd89f",
   "metadata": {},
   "outputs": [],
   "source": []
  },
  {
   "cell_type": "code",
   "execution_count": null,
   "id": "44cf4cd9-65a9-4118-9eb3-d37914964bc4",
   "metadata": {},
   "outputs": [],
   "source": []
  },
  {
   "cell_type": "code",
   "execution_count": null,
   "id": "f94ff03e-dfc8-4017-b240-f8b942fb1687",
   "metadata": {},
   "outputs": [],
   "source": [
    "#QAOA Optimization"
   ]
  },
  {
   "cell_type": "code",
   "execution_count": null,
   "id": "8a808592-f0b0-4dd1-ae85-da4b5a49551a",
   "metadata": {},
   "outputs": [],
   "source": []
  },
  {
   "cell_type": "code",
   "execution_count": 69,
   "id": "60ae87e0-4714-4e35-8371-a94186df7518",
   "metadata": {},
   "outputs": [
    {
     "name": "stdout",
     "output_type": "stream",
     "text": [
      "\\ This file has been generated by DOcplex\n",
      "\\ ENCODING=ISO-8859-1\n",
      "\\Problem name: CPLEX\n",
      "\n",
      "Minimize\n",
      " obj: 0.000000049770 x0 - 0.000000013820 x1 + [ 0.000000129740 x0*x1 ]/2\n",
      "Subject To\n",
      "\n",
      "Bounds\n",
      " 0 <= x0 <= 1\n",
      " 0 <= x1 <= 1\n",
      "\n",
      "Binaries\n",
      " x0 x1\n",
      "End\n",
      "\n"
     ]
    }
   ],
   "source": [
    "from qiskit_optimization import QuadraticProgram\n",
    "\n",
    "# Initialize the QUBO\n",
    "qubo = QuadraticProgram()\n",
    "qubo.binary_var(\"x0\")  # Binary encoding for one hyperparameter (e.g., learning rate)\n",
    "qubo.binary_var(\"x1\")  # Another hyperparameter (e.g., batch size)\n",
    "\n",
    "# Define the cost function (use sample dummy coefficients for now)\n",
    "qubo.minimize(\n",
    "    linear=[4.977e-08, -1.382e-08],\n",
    "    quadratic={(\"x0\", \"x1\"): 6.487e-08}\n",
    ")\n",
    "\n",
    "print(qubo.export_as_lp_string())\n"
   ]
  },
  {
   "cell_type": "code",
   "execution_count": 70,
   "id": "bddc5735-4558-4a00-a4c4-26fc180e5b72",
   "metadata": {},
   "outputs": [
    {
     "name": "stderr",
     "output_type": "stream",
     "text": [
      "C:\\Users\\ashak\\AppData\\Local\\Temp\\ipykernel_14696\\2121509647.py:6: DeprecationWarning: The class ``qiskit.primitives.sampler.Sampler`` is deprecated as of qiskit 1.2. It will be removed no earlier than 3 months after the release date. All implementations of the `BaseSamplerV1` interface have been deprecated in favor of their V2 counterparts. The V2 alternative for the `Sampler` class is `StatevectorSampler`.\n",
      "  qaoa = QAOA(sampler=Sampler(), optimizer=COBYLA(), reps=1)\n"
     ]
    },
    {
     "name": "stdout",
     "output_type": "stream",
     "text": [
      "🧠 Optimal binary solution: [0. 1.]\n",
      "📉 Minimum cost value: -1.382e-08\n"
     ]
    }
   ],
   "source": [
    "from qiskit_algorithms import QAOA\n",
    "from qiskit_algorithms.optimizers import COBYLA\n",
    "from qiskit_optimization.algorithms import MinimumEigenOptimizer\n",
    "from qiskit.primitives import Sampler\n",
    "\n",
    "qaoa = QAOA(sampler=Sampler(), optimizer=COBYLA(), reps=1)\n",
    "optimizer = MinimumEigenOptimizer(qaoa)\n",
    "\n",
    "# Solve the problem\n",
    "result = optimizer.solve(qubo)\n",
    "\n",
    "# Output\n",
    "print(f\"🧠 Optimal binary solution: {result.x}\")\n",
    "print(f\"📉 Minimum cost value: {result.fval}\")\n"
   ]
  },
  {
   "cell_type": "code",
   "execution_count": 72,
   "id": "ca569f89-16f5-46cb-aa86-89e9f5d347ba",
   "metadata": {},
   "outputs": [
    {
     "name": "stdout",
     "output_type": "stream",
     "text": [
      "🔧 Optimized Hyperparameters:\n",
      "📈 Learning Rate: 2e-05\n",
      "📦 Batch Size: 32\n"
     ]
    }
   ],
   "source": [
    "# Binary to actual values\n",
    "# x0: learning rate → 0: 2e-5, 1: 3e-5\n",
    "# x1: batch size     → 0: 16,   1: 32\n",
    "\n",
    "binary_solution = [0, 1]  # From QAOA\n",
    "\n",
    "learning_rate = 2e-5 if binary_solution[0] == 0 else 3e-5\n",
    "batch_size = 16 if binary_solution[1] == 0 else 32\n",
    "\n",
    "print(\"🔧 Optimized Hyperparameters:\")\n",
    "print(f\"📈 Learning Rate: {learning_rate}\")\n",
    "print(f\"📦 Batch Size: {batch_size}\")\n"
   ]
  },
  {
   "cell_type": "code",
   "execution_count": 73,
   "id": "d7d15bf9-2d47-4361-80f9-fb0f02cfa6be",
   "metadata": {},
   "outputs": [
    {
     "name": "stderr",
     "output_type": "stream",
     "text": [
      "C:\\Users\\ashak\\anaconda3\\envs\\qisk-latest\\lib\\site-packages\\transformers\\training_args.py:1594: FutureWarning: `evaluation_strategy` is deprecated and will be removed in version 4.46 of 🤗 Transformers. Use `eval_strategy` instead\n",
      "  warnings.warn(\n",
      "C:\\Users\\ashak\\AppData\\Local\\Temp\\ipykernel_14696\\1478900884.py:17: FutureWarning: `tokenizer` is deprecated and will be removed in version 5.0.0 for `Trainer.__init__`. Use `processing_class` instead.\n",
      "  trainer_qaoa = Trainer(\n"
     ]
    },
    {
     "data": {
      "text/html": [
       "\n",
       "    <div>\n",
       "      \n",
       "      <progress value='366' max='366' style='width:300px; height:20px; vertical-align: middle;'></progress>\n",
       "      [366/366 20:52, Epoch 3/3]\n",
       "    </div>\n",
       "    <table border=\"1\" class=\"dataframe\">\n",
       "  <thead>\n",
       " <tr style=\"text-align: left;\">\n",
       "      <th>Epoch</th>\n",
       "      <th>Training Loss</th>\n",
       "      <th>Validation Loss</th>\n",
       "    </tr>\n",
       "  </thead>\n",
       "  <tbody>\n",
       "    <tr>\n",
       "      <td>1</td>\n",
       "      <td>No log</td>\n",
       "      <td>0.308818</td>\n",
       "    </tr>\n",
       "    <tr>\n",
       "      <td>2</td>\n",
       "      <td>0.290600</td>\n",
       "      <td>0.363508</td>\n",
       "    </tr>\n",
       "    <tr>\n",
       "      <td>3</td>\n",
       "      <td>0.290600</td>\n",
       "      <td>0.372792</td>\n",
       "    </tr>\n",
       "  </tbody>\n",
       "</table><p>"
      ],
      "text/plain": [
       "<IPython.core.display.HTML object>"
      ]
     },
     "metadata": {},
     "output_type": "display_data"
    },
    {
     "data": {
      "text/plain": [
       "TrainOutput(global_step=366, training_loss=0.19492851319860238, metrics={'train_runtime': 1255.6236, 'train_samples_per_second': 9.261, 'train_steps_per_second': 0.291, 'total_flos': 384063366939840.0, 'train_loss': 0.19492851319860238, 'epoch': 3.0})"
      ]
     },
     "execution_count": 73,
     "metadata": {},
     "output_type": "execute_result"
    }
   ],
   "source": [
    "from transformers import TrainingArguments\n",
    "\n",
    "training_args_qaoa = TrainingArguments(\n",
    "    output_dir=\"./finbert_qaoa_optimized\",\n",
    "    evaluation_strategy=\"epoch\",\n",
    "    save_strategy=\"epoch\",\n",
    "    learning_rate=learning_rate,  # From QAOA\n",
    "    per_device_train_batch_size=batch_size,  # From QAOA\n",
    "    per_device_eval_batch_size=batch_size,\n",
    "    num_train_epochs=3,\n",
    "    weight_decay=0.01,\n",
    "    logging_dir=\"./logs_qaoa\",\n",
    "    logging_steps=200,\n",
    "    load_best_model_at_end=True\n",
    ")\n",
    "\n",
    "trainer_qaoa = Trainer(\n",
    "    model=model,\n",
    "    args=training_args_qaoa,\n",
    "    train_dataset=train_dataset,\n",
    "    eval_dataset=eval_dataset,\n",
    "    tokenizer=tokenizer,\n",
    ")\n",
    "\n",
    "trainer_qaoa.train()\n"
   ]
  },
  {
   "cell_type": "code",
   "execution_count": 74,
   "id": "11e68580-dbae-4248-b23b-298963e4a3e5",
   "metadata": {},
   "outputs": [
    {
     "data": {
      "text/html": [],
      "text/plain": [
       "<IPython.core.display.HTML object>"
      ]
     },
     "metadata": {},
     "output_type": "display_data"
    },
    {
     "name": "stdout",
     "output_type": "stream",
     "text": [
      "\n",
      "📊 Classification Report (QAOA):\n",
      "\n",
      "              precision    recall  f1-score   support\n",
      "\n",
      "    Negative       0.86      0.86      0.86       116\n",
      "     Neutral       0.91      0.94      0.92       577\n",
      "    Positive       0.87      0.81      0.84       277\n",
      "\n",
      "    accuracy                           0.89       970\n",
      "   macro avg       0.88      0.87      0.87       970\n",
      "weighted avg       0.89      0.89      0.89       970\n",
      "\n"
     ]
    }
   ],
   "source": [
    "# Predict with QAOA-optimized model\n",
    "predictions_qaoa = trainer_qaoa.predict(eval_dataset)\n",
    "y_pred_qaoa = np.argmax(predictions_qaoa.predictions, axis=1)\n",
    "y_true_qaoa = predictions_qaoa.label_ids\n",
    "\n",
    "# Confusion matrix + classification report\n",
    "from sklearn.metrics import classification_report, confusion_matrix\n",
    "\n",
    "print(\"\\n📊 Classification Report (QAOA):\\n\")\n",
    "print(classification_report(y_true_qaoa, y_pred_qaoa, target_names=[\"Negative\", \"Neutral\", \"Positive\"]))\n"
   ]
  },
  {
   "cell_type": "code",
   "execution_count": null,
   "id": "cf57577b-4914-44af-85fa-75fa251ccba8",
   "metadata": {},
   "outputs": [],
   "source": []
  },
  {
   "cell_type": "code",
   "execution_count": null,
   "id": "1a4db036-9708-42b6-84f1-e67a3b212db1",
   "metadata": {},
   "outputs": [],
   "source": []
  },
  {
   "cell_type": "code",
   "execution_count": null,
   "id": "2069a89f-c832-405f-bf90-72c2d3dabc87",
   "metadata": {},
   "outputs": [],
   "source": [
    "# VQE"
   ]
  },
  {
   "cell_type": "code",
   "execution_count": null,
   "id": "e602f8f3-bf99-434c-86cf-bf261e56435a",
   "metadata": {},
   "outputs": [],
   "source": []
  },
  {
   "cell_type": "code",
   "execution_count": null,
   "id": "ac763e14-3eca-4cf0-9f82-646574fb55cd",
   "metadata": {},
   "outputs": [],
   "source": []
  },
  {
   "cell_type": "code",
   "execution_count": 84,
   "id": "4230ff6a-7f7a-496b-8277-648447143e1f",
   "metadata": {},
   "outputs": [
    {
     "name": "stdout",
     "output_type": "stream",
     "text": [
      "✅ QUBO defined!\n"
     ]
    }
   ],
   "source": [
    "from qiskit_optimization import QuadraticProgram\n",
    "\n",
    "# 1. Define your QUBO problem (2 binary variables)\n",
    "qubo = QuadraticProgram()\n",
    "qubo.binary_var(\"x0\")  # e.g., learning rate\n",
    "qubo.binary_var(\"x1\")  # e.g., batch size\n",
    "\n",
    "# 2. Set up the objective function\n",
    "#   Minimizing: 4.977e-08*x0 + (-1.382e-08)*x1 + 6.487e-08*x0*x1\n",
    "#   (Same as used for QAOA)\n",
    "qubo.minimize(\n",
    "    linear=[4.977e-08, -1.382e-08],\n",
    "    quadratic={(0, 1): 6.487e-08}\n",
    ")\n",
    "\n",
    "print(\"✅ QUBO defined!\")\n"
   ]
  },
  {
   "cell_type": "code",
   "execution_count": 85,
   "id": "a9e54f47-aad1-478a-923e-952b7e1bb9fd",
   "metadata": {},
   "outputs": [
    {
     "name": "stdout",
     "output_type": "stream",
     "text": [
      "Hamiltonian: SparsePauliOp(['IZ', 'ZI', 'ZZ'],\n",
      "              coeffs=[-4.11025e-08+0.j, -9.30750e-09+0.j,  1.62175e-08+0.j])\n",
      "Offset: 3.41925e-08\n"
     ]
    }
   ],
   "source": [
    "from qiskit_optimization.translators import to_ising\n",
    "\n",
    "# Convert to Ising operator (PauliSumOp) + offset\n",
    "hamiltonian, offset = to_ising(qubo)\n",
    "\n",
    "print(\"Hamiltonian:\", hamiltonian)\n",
    "print(\"Offset:\", offset)\n"
   ]
  },
  {
   "cell_type": "code",
   "execution_count": 96,
   "id": "acadd819-7006-47fd-a762-03af9fa1ab68",
   "metadata": {},
   "outputs": [
    {
     "name": "stderr",
     "output_type": "stream",
     "text": [
      "C:\\Users\\ashak\\AppData\\Local\\Temp\\ipykernel_14696\\676223333.py:10: DeprecationWarning: The class ``qiskit.primitives.estimator.Estimator`` is deprecated as of qiskit 1.2. It will be removed no earlier than 3 months after the release date. All implementations of the `BaseEstimatorV1` interface have been deprecated in favor of their V2 counterparts. The V2 alternative for the `Estimator` class is `StatevectorEstimator`.\n",
      "  vqe = VQE(ansatz=ansatz, optimizer=COBYLA(), estimator=Estimator())\n"
     ]
    },
    {
     "name": "stdout",
     "output_type": "stream",
     "text": [
      "VQE raw energy (no offset): -4.801249643285854e-08\n",
      "VQE offset: 3.41925e-08\n",
      "VQE final cost value: -1.3819996432858538e-08\n",
      "Optimal parameters: {ParameterVectorElement(θ[0]): np.float64(1.864983536550108), ParameterVectorElement(θ[1]): np.float64(3.1415027678536243), ParameterVectorElement(θ[2]): np.float64(1.8648767296936528), ParameterVectorElement(θ[3]): np.float64(-0.0009767132677016436)}\n"
     ]
    }
   ],
   "source": [
    "from qiskit_algorithms import VQE\n",
    "from qiskit_algorithms.optimizers import COBYLA\n",
    "from qiskit.circuit.library import TwoLocal\n",
    "from qiskit.primitives import Estimator\n",
    "\n",
    "# Create a 2-qubit ansatz\n",
    "ansatz = TwoLocal(num_qubits=2, rotation_blocks='ry', entanglement_blocks='cz', reps=1)\n",
    "\n",
    "# Create a VQE instance using COBYLA optimizer + Estimator\n",
    "vqe = VQE(ansatz=ansatz, optimizer=COBYLA(), estimator=Estimator())\n",
    "\n",
    "# Compute the minimum eigenvalue for our Hamiltonian\n",
    "vqe_result = vqe.compute_minimum_eigenvalue(operator=hamiltonian)\n",
    "vqe_energy = vqe_result.eigenvalue.real + offset  # Add offset to get QUBO cost\n",
    "\n",
    "print(\"VQE raw energy (no offset):\", vqe_result.eigenvalue.real)\n",
    "print(\"VQE offset:\", offset)\n",
    "print(\"VQE final cost value:\", vqe_energy)\n",
    "\n",
    "print(\"Optimal parameters:\", vqe_result.optimal_parameters)\n"
   ]
  },
  {
   "cell_type": "code",
   "execution_count": 95,
   "id": "a51e65ba-a244-45c7-aed7-6931df6bc040",
   "metadata": {},
   "outputs": [
    {
     "ename": "CircuitError",
     "evalue": "'Cannot bind parameters (θ[0], θ[1], θ[2], θ[3]) not present in the circuit.'",
     "output_type": "error",
     "traceback": [
      "\u001b[1;31m---------------------------------------------------------------------------\u001b[0m",
      "\u001b[1;31mCircuitError\u001b[0m                              Traceback (most recent call last)",
      "Cell \u001b[1;32mIn[95], line 6\u001b[0m\n\u001b[0;32m      3\u001b[0m \u001b[38;5;28;01mfrom\u001b[39;00m\u001b[38;5;250m \u001b[39m\u001b[38;5;21;01mqiskit\u001b[39;00m\u001b[38;5;21;01m.\u001b[39;00m\u001b[38;5;21;01mprimitives\u001b[39;00m\u001b[38;5;250m \u001b[39m\u001b[38;5;28;01mimport\u001b[39;00m StatevectorEstimator\n\u001b[0;32m      5\u001b[0m \u001b[38;5;66;03m# 1. Build final circuit by binding angles from vqe_result\u001b[39;00m\n\u001b[1;32m----> 6\u001b[0m bound_circuit \u001b[38;5;241m=\u001b[39m \u001b[43mansatz\u001b[49m\u001b[38;5;241;43m.\u001b[39;49m\u001b[43massign_parameters\u001b[49m\u001b[43m(\u001b[49m\u001b[43mvqe_result\u001b[49m\u001b[38;5;241;43m.\u001b[39;49m\u001b[43moptimal_parameters\u001b[49m\u001b[43m)\u001b[49m\n\u001b[0;32m      8\u001b[0m \u001b[38;5;66;03m# 2. Evaluate final state using StatevectorEstimator\u001b[39;00m\n\u001b[0;32m      9\u001b[0m sve \u001b[38;5;241m=\u001b[39m StatevectorEstimator()\n",
      "File \u001b[1;32m~\\anaconda3\\envs\\qisk-latest\\lib\\site-packages\\qiskit\\circuit\\library\\n_local\\n_local.py:1075\u001b[0m, in \u001b[0;36mNLocal.assign_parameters\u001b[1;34m(self, parameters, inplace, **kwargs)\u001b[0m\n\u001b[0;32m   1072\u001b[0m \u001b[38;5;28;01mif\u001b[39;00m \u001b[38;5;129;01mnot\u001b[39;00m \u001b[38;5;28mself\u001b[39m\u001b[38;5;241m.\u001b[39m_is_built:\n\u001b[0;32m   1073\u001b[0m     \u001b[38;5;28mself\u001b[39m\u001b[38;5;241m.\u001b[39m_build()\n\u001b[1;32m-> 1075\u001b[0m \u001b[38;5;28;01mreturn\u001b[39;00m \u001b[38;5;28msuper\u001b[39m()\u001b[38;5;241m.\u001b[39massign_parameters(parameters, inplace\u001b[38;5;241m=\u001b[39minplace, \u001b[38;5;241m*\u001b[39m\u001b[38;5;241m*\u001b[39mkwargs)\n",
      "File \u001b[1;32m~\\anaconda3\\envs\\qisk-latest\\lib\\site-packages\\qiskit\\circuit\\quantumcircuit.py:4356\u001b[0m, in \u001b[0;36mQuantumCircuit.assign_parameters\u001b[1;34m(self, parameters, inplace, flat_input, strict)\u001b[0m\n\u001b[0;32m   4350\u001b[0m raw_mapping \u001b[38;5;241m=\u001b[39m parameters \u001b[38;5;28;01mif\u001b[39;00m flat_input \u001b[38;5;28;01melse\u001b[39;00m \u001b[38;5;28mself\u001b[39m\u001b[38;5;241m.\u001b[39m_unroll_param_dict(parameters)\n\u001b[0;32m   4351\u001b[0m \u001b[38;5;28;01mif\u001b[39;00m strict \u001b[38;5;129;01mand\u001b[39;00m (\n\u001b[0;32m   4352\u001b[0m     extras \u001b[38;5;241m:=\u001b[39m [\n\u001b[0;32m   4353\u001b[0m         parameter \u001b[38;5;28;01mfor\u001b[39;00m parameter \u001b[38;5;129;01min\u001b[39;00m raw_mapping \u001b[38;5;28;01mif\u001b[39;00m \u001b[38;5;129;01mnot\u001b[39;00m \u001b[38;5;28mself\u001b[39m\u001b[38;5;241m.\u001b[39mhas_parameter(parameter)\n\u001b[0;32m   4354\u001b[0m     ]\n\u001b[0;32m   4355\u001b[0m ):\n\u001b[1;32m-> 4356\u001b[0m     \u001b[38;5;28;01mraise\u001b[39;00m CircuitError(\n\u001b[0;32m   4357\u001b[0m         \u001b[38;5;124mf\u001b[39m\u001b[38;5;124m\"\u001b[39m\u001b[38;5;124mCannot bind parameters (\u001b[39m\u001b[38;5;132;01m{\u001b[39;00m\u001b[38;5;124m'\u001b[39m\u001b[38;5;124m, \u001b[39m\u001b[38;5;124m'\u001b[39m\u001b[38;5;241m.\u001b[39mjoin(\u001b[38;5;28mstr\u001b[39m(x)\u001b[38;5;250m \u001b[39m\u001b[38;5;28;01mfor\u001b[39;00m\u001b[38;5;250m \u001b[39mx\u001b[38;5;250m \u001b[39m\u001b[38;5;129;01min\u001b[39;00m\u001b[38;5;250m \u001b[39mextras)\u001b[38;5;132;01m}\u001b[39;00m\u001b[38;5;124m) not present in\u001b[39m\u001b[38;5;124m\"\u001b[39m\n\u001b[0;32m   4358\u001b[0m         \u001b[38;5;124m\"\u001b[39m\u001b[38;5;124m the circuit.\u001b[39m\u001b[38;5;124m\"\u001b[39m\n\u001b[0;32m   4359\u001b[0m     )\n\u001b[0;32m   4361\u001b[0m \u001b[38;5;28;01mdef\u001b[39;00m\u001b[38;5;250m \u001b[39m\u001b[38;5;21mcreate_mapping_view\u001b[39m():\n\u001b[0;32m   4362\u001b[0m     \u001b[38;5;28;01mreturn\u001b[39;00m raw_mapping\n",
      "\u001b[1;31mCircuitError\u001b[0m: 'Cannot bind parameters (θ[0], θ[1], θ[2], θ[3]) not present in the circuit.'"
     ]
    }
   ],
   "source": [
    "import numpy as np\n",
    "from qiskit.quantum_info import Statevector\n",
    "from qiskit.primitives import StatevectorEstimator\n",
    "\n",
    "# 1. Build final circuit by binding angles from vqe_result\n",
    "bound_circuit = ansatz.assign_parameters(vqe_result.optimal_parameters)\n",
    "\n",
    "# 2. Evaluate final state using StatevectorEstimator\n",
    "sve = StatevectorEstimator()\n",
    "job = sve.run([bound_circuit])\n",
    "sv = job.result().values[0]  # This is the amplitude vector\n",
    "\n",
    "print(\"Statevector amplitudes:\", sv)\n",
    "\n",
    "# 3. Convert to a Statevector object for probabilities\n",
    "final_sv = Statevector(bound_circuit)\n",
    "probs_dict = final_sv.probabilities_dict()\n",
    "\n",
    "# 4. Get the bitstring with highest amplitude\n",
    "top_state = max(probs_dict.items(), key=lambda x: x[1])\n",
    "bitstring = top_state[0]\n",
    "\n",
    "print(\"Most probable solution (bitstring):\", bitstring)\n"
   ]
  },
  {
   "cell_type": "code",
   "execution_count": null,
   "id": "fb0695cf-ef98-4902-8c2a-ba0bb418b8ec",
   "metadata": {},
   "outputs": [],
   "source": []
  },
  {
   "cell_type": "code",
   "execution_count": null,
   "id": "dc9e10b0-d0ef-41fd-984d-b668935a5525",
   "metadata": {},
   "outputs": [],
   "source": []
  },
  {
   "cell_type": "code",
   "execution_count": null,
   "id": "e65f6695-1fef-4935-839c-89bae334b38f",
   "metadata": {},
   "outputs": [],
   "source": []
  },
  {
   "cell_type": "code",
   "execution_count": null,
   "id": "473aec56-a893-4f80-917c-42903aadc3aa",
   "metadata": {},
   "outputs": [],
   "source": []
  },
  {
   "cell_type": "code",
   "execution_count": null,
   "id": "443dee40-2e5b-4eaf-900c-3c493ae46c7e",
   "metadata": {},
   "outputs": [],
   "source": [
    "# GORK TRY"
   ]
  },
  {
   "cell_type": "code",
   "execution_count": null,
   "id": "26646a96-e332-45c4-909d-5695fedb611e",
   "metadata": {},
   "outputs": [],
   "source": []
  },
  {
   "cell_type": "code",
   "execution_count": null,
   "id": "63a46c64-0f64-4441-8f88-52852d006808",
   "metadata": {},
   "outputs": [],
   "source": []
  },
  {
   "cell_type": "code",
   "execution_count": null,
   "id": "373dbead-215e-4f16-8bad-435e5fbb1d42",
   "metadata": {},
   "outputs": [],
   "source": []
  },
  {
   "cell_type": "code",
   "execution_count": 89,
   "id": "b3c10436-635e-4da8-ac1f-0441b7366461",
   "metadata": {},
   "outputs": [
    {
     "name": "stderr",
     "output_type": "stream",
     "text": [
      "C:\\Users\\ashak\\AppData\\Local\\Temp\\ipykernel_14696\\1283606262.py:24: DeprecationWarning: The class ``qiskit.primitives.estimator.Estimator`` is deprecated as of qiskit 1.2. It will be removed no earlier than 3 months after the release date. All implementations of the `BaseEstimatorV1` interface have been deprecated in favor of their V2 counterparts. The V2 alternative for the `Estimator` class is `StatevectorEstimator`.\n",
      "  estimator = Estimator()  # Replace StatevectorEstimator with Estimator\n"
     ]
    },
    {
     "name": "stdout",
     "output_type": "stream",
     "text": [
      "Minimum eigenvalue: -1.836966666852295\n"
     ]
    }
   ],
   "source": [
    "from qiskit import QuantumCircuit\n",
    "from qiskit.circuit.library import TwoLocal\n",
    "from qiskit.quantum_info import SparsePauliOp\n",
    "from qiskit.primitives import Estimator  # Use Estimator instead of StatevectorEstimator\n",
    "from qiskit_algorithms import VQE\n",
    "from qiskit_algorithms.optimizers import SLSQP\n",
    "\n",
    "# Define the Hamiltonian (e.g., for H2 molecule)\n",
    "H2_op = SparsePauliOp.from_list([\n",
    "    (\"II\", -1.052373245772859),\n",
    "    (\"IZ\", 0.39793742484318045),\n",
    "    (\"ZI\", -0.39793742484318045),\n",
    "    (\"ZZ\", -0.01128010425623538),\n",
    "    (\"XX\", 0.18093119978423156),\n",
    "])\n",
    "\n",
    "# Create the ansatz\n",
    "ansatz = TwoLocal(2, rotation_blocks=[\"ry\", \"rz\"], entanglement_blocks=\"cz\", reps=1)\n",
    "\n",
    "# Set up the optimizer\n",
    "optimizer = SLSQP()\n",
    "\n",
    "# Initialize the estimator\n",
    "estimator = Estimator()  # Replace StatevectorEstimator with Estimator\n",
    "\n",
    "# Run VQE\n",
    "vqe = VQE(estimator=estimator, ansatz=ansatz, optimizer=optimizer)\n",
    "result = vqe.compute_minimum_eigenvalue(operator=H2_op)\n",
    "print(\"Minimum eigenvalue:\", result.eigenvalue)"
   ]
  },
  {
   "cell_type": "code",
   "execution_count": 91,
   "id": "38b280d1-4dc9-479e-b32d-cf9c27c7396a",
   "metadata": {},
   "outputs": [],
   "source": [
    "def objective_function(params):\n",
    "    # Bind parameters to the ansatz\n",
    "    bound_circuit = ansatz.assign_parameters(params)\n",
    "    # Run the estimator with the bound circuit and Hamiltonian\n",
    "    job = estimator.run([(bound_circuit, H2_op)])\n",
    "    result = job.result()\n",
    "    # Extract the expectation value (energy)\n",
    "    energy = result[0].data.evs  # Corrected: no [0] needed\n",
    "    return energy"
   ]
  },
  {
   "cell_type": "code",
   "execution_count": 92,
   "id": "d5e05172-bffc-4754-baf0-2ceb2f8d6710",
   "metadata": {},
   "outputs": [],
   "source": [
    "def objective_function(params):\n",
    "    bound_circuit = ansatz.assign_parameters(params)\n",
    "    job = estimator.run([(bound_circuit, H2_op)])\n",
    "    result = job.result()\n",
    "    evs = result[0].data.evs\n",
    "    print(\"Type of evs:\", type(evs))\n",
    "    print(\"Value of evs:\", evs)\n",
    "    energy = evs\n",
    "    return energy"
   ]
  },
  {
   "cell_type": "code",
   "execution_count": 93,
   "id": "4686b8d6-4919-4317-9b67-ac8336ed33e4",
   "metadata": {},
   "outputs": [
    {
     "name": "stdout",
     "output_type": "stream",
     "text": [
      "Optimization result:  message: Optimization terminated successfully\n",
      " success: True\n",
      "  status: 0\n",
      "     fun: -1.0636533500290943\n",
      "       x: [ 0.000e+00  0.000e+00  0.000e+00  0.000e+00  0.000e+00\n",
      "            0.000e+00  0.000e+00  0.000e+00]\n",
      "     nit: 1\n",
      "     jac: [ 0.000e+00  0.000e+00  0.000e+00  0.000e+00  0.000e+00\n",
      "            0.000e+00  0.000e+00  0.000e+00]\n",
      "    nfev: 9\n",
      "    njev: 1\n"
     ]
    }
   ],
   "source": [
    "import numpy as np\n",
    "from scipy.optimize import minimize\n",
    "from qiskit.primitives import StatevectorEstimator\n",
    "\n",
    "# Assume ansatz, H2_op, and estimator are defined elsewhere\n",
    "# ansatz: Quantum circuit with parameters\n",
    "# H2_op: Hamiltonian (SparsePauliOp)\n",
    "# estimator: StatevectorEstimator instance\n",
    "\n",
    "def objective_function(params):\n",
    "    bound_circuit = ansatz.assign_parameters(params)\n",
    "    job = estimator.run([(bound_circuit, H2_op)])\n",
    "    result = job.result()\n",
    "    energy = result[0].data.evs  # Fixed line\n",
    "    return energy\n",
    "\n",
    "# Initial parameters\n",
    "initial_params = np.zeros(ansatz.num_parameters)\n",
    "\n",
    "# Perform optimization using SLSQP\n",
    "optimizer = minimize(objective_function, initial_params, method=\"SLSQP\")\n",
    "\n",
    "# Output the results\n",
    "print(\"Optimization result:\", optimizer)"
   ]
  },
  {
   "cell_type": "code",
   "execution_count": 94,
   "id": "b0d543f8-c2f7-490b-b2f5-d4c38e0b0763",
   "metadata": {},
   "outputs": [
    {
     "ename": "NameError",
     "evalue": "name 'bitstring' is not defined",
     "output_type": "error",
     "traceback": [
      "\u001b[1;31m---------------------------------------------------------------------------\u001b[0m",
      "\u001b[1;31mNameError\u001b[0m                                 Traceback (most recent call last)",
      "Cell \u001b[1;32mIn[94], line 8\u001b[0m\n\u001b[0;32m      5\u001b[0m lr_map \u001b[38;5;241m=\u001b[39m { \u001b[38;5;124m'\u001b[39m\u001b[38;5;124m0\u001b[39m\u001b[38;5;124m'\u001b[39m: \u001b[38;5;241m2e-5\u001b[39m, \u001b[38;5;124m'\u001b[39m\u001b[38;5;124m1\u001b[39m\u001b[38;5;124m'\u001b[39m: \u001b[38;5;241m3e-5\u001b[39m }\n\u001b[0;32m      6\u001b[0m bs_map \u001b[38;5;241m=\u001b[39m { \u001b[38;5;124m'\u001b[39m\u001b[38;5;124m0\u001b[39m\u001b[38;5;124m'\u001b[39m: \u001b[38;5;241m16\u001b[39m,   \u001b[38;5;124m'\u001b[39m\u001b[38;5;124m1\u001b[39m\u001b[38;5;124m'\u001b[39m: \u001b[38;5;241m32\u001b[39m }\n\u001b[1;32m----> 8\u001b[0m learning_rate \u001b[38;5;241m=\u001b[39m lr_map[ \u001b[43mbitstring\u001b[49m[\u001b[38;5;241m0\u001b[39m] ]\n\u001b[0;32m      9\u001b[0m batch_size    \u001b[38;5;241m=\u001b[39m bs_map[ bitstring[\u001b[38;5;241m1\u001b[39m] ]\n\u001b[0;32m     11\u001b[0m \u001b[38;5;28mprint\u001b[39m(\u001b[38;5;124m\"\u001b[39m\u001b[38;5;124m🔧 VQE-chosen hyperparams:\u001b[39m\u001b[38;5;124m\"\u001b[39m)\n",
      "\u001b[1;31mNameError\u001b[0m: name 'bitstring' is not defined"
     ]
    }
   ],
   "source": []
  },
  {
   "cell_type": "code",
   "execution_count": null,
   "id": "ff100c74-9a18-4d28-9207-d91fa0dfe085",
   "metadata": {},
   "outputs": [],
   "source": []
  }
 ],
 "metadata": {
  "kernelspec": {
   "display_name": "Python (qisk-latest)",
   "language": "python",
   "name": "qisk-latest"
  },
  "language_info": {
   "codemirror_mode": {
    "name": "ipython",
    "version": 3
   },
   "file_extension": ".py",
   "mimetype": "text/x-python",
   "name": "python",
   "nbconvert_exporter": "python",
   "pygments_lexer": "ipython3",
   "version": "3.10.16"
  }
 },
 "nbformat": 4,
 "nbformat_minor": 5
}
